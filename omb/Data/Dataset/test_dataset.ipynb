{
 "cells": [
  {
   "cell_type": "code",
   "execution_count": 1,
   "metadata": {
    "ExecuteTime": {
     "end_time": "2020-07-05T08:40:38.607960Z",
     "start_time": "2020-07-05T08:40:34.747265Z"
    }
   },
   "outputs": [],
   "source": [
    "import pandas as pd\n",
    "from omb.backend import dataset\n",
    "import plotly.express as px\n",
    "from plotly.subplots import make_subplots\n",
    "import plotly.graph_objects as go\n"
   ]
  },
  {
   "cell_type": "code",
   "execution_count": 2,
   "metadata": {
    "ExecuteTime": {
     "end_time": "2020-07-05T08:40:38.616906Z",
     "start_time": "2020-07-05T08:40:38.611025Z"
    }
   },
   "outputs": [],
   "source": [
    "def _cell_type_name_to_cell_ids(cell_type_name, sample=None):\n",
    "    cell_clusters = dataset.get_variables(\n",
    "        dataset.cluster_name_to_level[cell_type_name])\n",
    "    cell_clusters = cell_clusters[cell_clusters == cell_type_name]\n",
    "    if (sample is not None) and (cell_clusters.size > sample):\n",
    "        cell_clusters = cell_clusters.sample(sample, random_state=1)\n",
    "\n",
    "    cell_ids = cell_clusters[cell_clusters == cell_type_name].index\n",
    "    return cell_ids\n"
   ]
  },
  {
   "cell_type": "code",
   "execution_count": 3,
   "metadata": {
    "ExecuteTime": {
     "end_time": "2020-07-05T08:36:01.209027Z",
     "start_time": "2020-07-05T08:36:01.205374Z"
    }
   },
   "outputs": [],
   "source": [
    "cell_type_name = 'PT-L5'"
   ]
  },
  {
   "cell_type": "code",
   "execution_count": 4,
   "metadata": {
    "ExecuteTime": {
     "end_time": "2020-07-05T08:36:01.220112Z",
     "start_time": "2020-07-05T08:36:01.211724Z"
    }
   },
   "outputs": [],
   "source": [
    "def _prepare_for_both_scatter(coord_and_cell_type_level, cell_type_name):\n",
    "    try:\n",
    "        coord_base, cell_type_level = coord_and_cell_type_level.split(' - ')\n",
    "    except ValueError:\n",
    "        raise PreventUpdate\n",
    "\n",
    "    selected_cells = _cell_type_name_to_cell_ids(cell_type_name)\n",
    "\n",
    "    selected_plot_df, unselected_plot_df, hover_cols, palette = get_split_plot_df(\n",
    "        coord_base=coord_base,\n",
    "        variable_name=cell_type_level,\n",
    "        selected_cells=selected_cells,\n",
    "        hover_cols=('RegionName', 'SubType'))\n",
    "\n",
    "    if selected_plot_df.shape[0] > DOWN_SAMPLE:\n",
    "        selected_plot_df = selected_plot_df.sample(DOWN_SAMPLE, random_state=0)\n",
    "    if unselected_plot_df.shape[0] > DOWN_SAMPLE:\n",
    "        unselected_plot_df = unselected_plot_df.sample(DOWN_SAMPLE, random_state=0)\n",
    "    return selected_plot_df, unselected_plot_df, cell_type_level, palette, hover_cols\n"
   ]
  },
  {
   "cell_type": "code",
   "execution_count": 5,
   "metadata": {
    "ExecuteTime": {
     "end_time": "2020-07-05T08:30:13.141583Z",
     "start_time": "2020-07-05T08:30:13.104285Z"
    }
   },
   "outputs": [
    {
     "data": {
      "text/html": [
       "<div>\n",
       "<style scoped>\n",
       "    .dataframe tbody tr th:only-of-type {\n",
       "        vertical-align: middle;\n",
       "    }\n",
       "\n",
       "    .dataframe tbody tr th {\n",
       "        vertical-align: top;\n",
       "    }\n",
       "\n",
       "    .dataframe thead th {\n",
       "        text-align: right;\n",
       "    }\n",
       "</style>\n",
       "<table border=\"1\" class=\"dataframe\">\n",
       "  <thead>\n",
       "    <tr style=\"text-align: right;\">\n",
       "      <th></th>\n",
       "      <th>id</th>\n",
       "      <th>type</th>\n",
       "      <th>path</th>\n",
       "      <th>data</th>\n",
       "      <th>iconCls</th>\n",
       "      <th>height</th>\n",
       "      <th>scale</th>\n",
       "      <th>showControls</th>\n",
       "      <th>boxWidthMin</th>\n",
       "      <th>single</th>\n",
       "      <th>showWalks</th>\n",
       "      <th>class</th>\n",
       "      <th>policy</th>\n",
       "    </tr>\n",
       "    <tr>\n",
       "      <th>name</th>\n",
       "      <th></th>\n",
       "      <th></th>\n",
       "      <th></th>\n",
       "      <th></th>\n",
       "      <th></th>\n",
       "      <th></th>\n",
       "      <th></th>\n",
       "      <th></th>\n",
       "      <th></th>\n",
       "      <th></th>\n",
       "      <th></th>\n",
       "      <th></th>\n",
       "      <th></th>\n",
       "    </tr>\n",
       "  </thead>\n",
       "  <tbody>\n",
       "    <tr>\n",
       "      <th>Gene</th>\n",
       "      <td>1_1</td>\n",
       "      <td>ModelsTrack</td>\n",
       "      <td>Annotation Models</td>\n",
       "      <td>/aj2/models/mm15-simple.php</td>\n",
       "      <td>silk_bricks</td>\n",
       "      <td>100</td>\n",
       "      <td>1</td>\n",
       "      <td>1.0</td>\n",
       "      <td>NaN</td>\n",
       "      <td>NaN</td>\n",
       "      <td>NaN</td>\n",
       "      <td>NaN</td>\n",
       "      <td>NaN</td>\n",
       "    </tr>\n",
       "    <tr>\n",
       "      <th>Vista Enhancers</th>\n",
       "      <td>1_2</td>\n",
       "      <td>ModelsTrack</td>\n",
       "      <td>Annotation Models</td>\n",
       "      <td>/aj2/tracks/hchen/mm_chol/Annotation_Models/Vi...</td>\n",
       "      <td>silk_bricks</td>\n",
       "      <td>28</td>\n",
       "      <td>1</td>\n",
       "      <td>NaN</td>\n",
       "      <td>1.0</td>\n",
       "      <td>1.0</td>\n",
       "      <td>1.0</td>\n",
       "      <td>NaN</td>\n",
       "      <td>NaN</td>\n",
       "    </tr>\n",
       "    <tr>\n",
       "      <th>CA1 Ptprg</th>\n",
       "      <td>2_1</td>\n",
       "      <td>MethTrack</td>\n",
       "      <td>Excitatory Neuron/CA1</td>\n",
       "      <td>/aj2/tracks/hchen/mouse_brain_161/mC/CA1_Ptprg...</td>\n",
       "      <td>salk_meth</td>\n",
       "      <td>40</td>\n",
       "      <td>1</td>\n",
       "      <td>NaN</td>\n",
       "      <td>NaN</td>\n",
       "      <td>NaN</td>\n",
       "      <td>NaN</td>\n",
       "      <td>CG CH -coverage</td>\n",
       "      <td>1:1:10</td>\n",
       "    </tr>\n",
       "    <tr>\n",
       "      <th>CA1 Lingo2</th>\n",
       "      <td>2_2</td>\n",
       "      <td>MethTrack</td>\n",
       "      <td>Excitatory Neuron/CA1</td>\n",
       "      <td>/aj2/tracks/hchen/mouse_brain_161/mC/CA1_Lingo...</td>\n",
       "      <td>salk_meth</td>\n",
       "      <td>40</td>\n",
       "      <td>1</td>\n",
       "      <td>NaN</td>\n",
       "      <td>NaN</td>\n",
       "      <td>NaN</td>\n",
       "      <td>NaN</td>\n",
       "      <td>CG CH -coverage</td>\n",
       "      <td>1:1:10</td>\n",
       "    </tr>\n",
       "    <tr>\n",
       "      <th>CA1 Chrm3</th>\n",
       "      <td>2_3</td>\n",
       "      <td>MethTrack</td>\n",
       "      <td>Excitatory Neuron/CA1</td>\n",
       "      <td>/aj2/tracks/hchen/mouse_brain_161/mC/CA1_Chrm3...</td>\n",
       "      <td>salk_meth</td>\n",
       "      <td>40</td>\n",
       "      <td>1</td>\n",
       "      <td>NaN</td>\n",
       "      <td>NaN</td>\n",
       "      <td>NaN</td>\n",
       "      <td>NaN</td>\n",
       "      <td>CG CH -coverage</td>\n",
       "      <td>1:1:10</td>\n",
       "    </tr>\n",
       "  </tbody>\n",
       "</table>\n",
       "</div>"
      ],
      "text/plain": [
       "                  id         type                   path  \\\n",
       "name                                                       \n",
       "Gene             1_1  ModelsTrack      Annotation Models   \n",
       "Vista Enhancers  1_2  ModelsTrack      Annotation Models   \n",
       "CA1 Ptprg        2_1    MethTrack  Excitatory Neuron/CA1   \n",
       "CA1 Lingo2       2_2    MethTrack  Excitatory Neuron/CA1   \n",
       "CA1 Chrm3        2_3    MethTrack  Excitatory Neuron/CA1   \n",
       "\n",
       "                                                              data  \\\n",
       "name                                                                 \n",
       "Gene                                   /aj2/models/mm15-simple.php   \n",
       "Vista Enhancers  /aj2/tracks/hchen/mm_chol/Annotation_Models/Vi...   \n",
       "CA1 Ptprg        /aj2/tracks/hchen/mouse_brain_161/mC/CA1_Ptprg...   \n",
       "CA1 Lingo2       /aj2/tracks/hchen/mouse_brain_161/mC/CA1_Lingo...   \n",
       "CA1 Chrm3        /aj2/tracks/hchen/mouse_brain_161/mC/CA1_Chrm3...   \n",
       "\n",
       "                     iconCls  height  scale  showControls  boxWidthMin  \\\n",
       "name                                                                     \n",
       "Gene             silk_bricks     100      1           1.0          NaN   \n",
       "Vista Enhancers  silk_bricks      28      1           NaN          1.0   \n",
       "CA1 Ptprg          salk_meth      40      1           NaN          NaN   \n",
       "CA1 Lingo2         salk_meth      40      1           NaN          NaN   \n",
       "CA1 Chrm3          salk_meth      40      1           NaN          NaN   \n",
       "\n",
       "                 single  showWalks            class  policy  \n",
       "name                                                         \n",
       "Gene                NaN        NaN              NaN     NaN  \n",
       "Vista Enhancers     1.0        1.0              NaN     NaN  \n",
       "CA1 Ptprg           NaN        NaN  CG CH -coverage  1:1:10  \n",
       "CA1 Lingo2          NaN        NaN  CG CH -coverage  1:1:10  \n",
       "CA1 Chrm3           NaN        NaN  CG CH -coverage  1:1:10  "
      ]
     },
     "execution_count": 5,
     "metadata": {},
     "output_type": "execute_result"
    }
   ],
   "source": [
    "annoj_meta = pd.read_csv('AnnoJMeta.csv', index_col=0)\n",
    "gene_track_id = annoj_meta.loc['Gene', 'id']\n",
    "subtype_to_annoj_track_id = annoj_meta[annoj_meta['type'] == 'MethTrack']['id'].to_dict()\n",
    "annoj_meta.head()"
   ]
  },
  {
   "cell_type": "code",
   "execution_count": null,
   "metadata": {
    "ExecuteTime": {
     "end_time": "2020-07-05T08:03:44.606235Z",
     "start_time": "2020-07-05T08:03:44.603506Z"
    }
   },
   "outputs": [],
   "source": []
  },
  {
   "cell_type": "code",
   "execution_count": 6,
   "metadata": {
    "ExecuteTime": {
     "end_time": "2020-07-05T08:43:59.678430Z",
     "start_time": "2020-07-05T08:43:59.674076Z"
    }
   },
   "outputs": [
    {
     "name": "stdout",
     "output_type": "stream",
     "text": [
      "http://neomorph.salk.edu/mouse_brain.php?location=2:10000000-10100000&active=[\"12_2\",\"12_4\",\"12_3\",\"12_1\",\"13_2\",\"13_1\",\"14_2\",\"14_1\",\"14_3\",\"15_2\",\"15_3\",\"15_1\",\"15_4\"]&config=[{type:\"MethTrack\",height:50,class:\"-CG CH -coverage\"},{id:\"12_2\",color:{CH:\"C8CA86\",rColor:1}},{id:\"12_3\",color:{CH:\"475400\",rColor:1}},{id:\"12_4\",color:{CH:\"94B400\",rColor:1}},{id:\"12_1\",color:{CH:\"212900\",rColor:1}},{id:\"13_2\",color:{CH:\"A8D617\",rColor:1}},{id:\"13_1\",color:{CH:\"B3D164\",rColor:1}},{id:\"14_3\",color:{CH:\"435F00\",rColor:1}},{id:\"14_1\",color:{CH:\"A6D648\",rColor:1}},{id:\"14_2\",color:{CH:\"203900\",rColor:1}},{id:\"15_4\",color:{CH:\"6DC600\",rColor:1}},{id:\"15_3\",color:{CH:\"42A100\",rColor:1}},{id:\"15_1\",color:{CH:\"3BB800\",rColor:1}},{id:\"15_2\",color:{CH:\"167600\",rColor:1}}]&settings={accordion:\"hide\",}\n"
     ]
    }
   ],
   "source": [
    "url = dataset.annoj_url(active_clusters=['IT-L23', 'IT-L4', 'IT-L5', 'IT-L6'],\n",
    "                        chrom='2',\n",
    "                        start=10000000,\n",
    "                        end=10100000,\n",
    "                        track_type='CH',\n",
    "                        mc_track_height=50,\n",
    "                        hide_sidebar=True,\n",
    "                        hide_toolbar=False,\n",
    "                        cell_type_color=True)\n",
    "print(url)"
   ]
  },
  {
   "cell_type": "raw",
   "metadata": {},
   "source": [
    "http://neomorph.salk.edu/mouse_brain.php?location=2:10000000-10100000&active=[\"12_2\",\"12_4\",\"12_3\",\"12_1\"]&config=[{type:\"MethTrack\",height:50,class:\"CG -CH -coverage\"},{id:\"12_2\",color:{CG:\"C8CA86\",rColor:1}},{id:\"12_3\",color:{CG:\"475400\",rColor:1}},{id:\"12_4\",color:{CG:\"94B400\",rColor:1}},{id:\"12_1\",color:{CG:\"212900\",rColor:1}}]&settings={accordion:\"hide\",}\n"
   ]
  },
  {
   "cell_type": "code",
   "execution_count": null,
   "metadata": {},
   "outputs": [],
   "source": []
  },
  {
   "cell_type": "code",
   "execution_count": null,
   "metadata": {},
   "outputs": [],
   "source": []
  },
  {
   "cell_type": "code",
   "execution_count": null,
   "metadata": {},
   "outputs": [],
   "source": []
  },
  {
   "cell_type": "code",
   "execution_count": null,
   "metadata": {},
   "outputs": [],
   "source": []
  },
  {
   "cell_type": "code",
   "execution_count": null,
   "metadata": {},
   "outputs": [],
   "source": []
  }
 ],
 "metadata": {
  "kernelspec": {
   "display_name": "Python 3",
   "language": "python",
   "name": "python3"
  },
  "language_info": {
   "codemirror_mode": {
    "name": "ipython",
    "version": 3
   },
   "file_extension": ".py",
   "mimetype": "text/x-python",
   "name": "python",
   "nbconvert_exporter": "python",
   "pygments_lexer": "ipython3",
   "version": "3.8.3"
  },
  "toc": {
   "base_numbering": 1,
   "nav_menu": {},
   "number_sections": true,
   "sideBar": true,
   "skip_h1_title": true,
   "title_cell": "Table of Contents",
   "title_sidebar": "Contents",
   "toc_cell": false,
   "toc_position": {},
   "toc_section_display": true,
   "toc_window_display": true
  }
 },
 "nbformat": 4,
 "nbformat_minor": 4
}
