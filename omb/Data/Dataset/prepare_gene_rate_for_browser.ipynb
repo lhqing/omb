{
 "cells": [
  {
   "cell_type": "code",
   "execution_count": 1,
   "metadata": {
    "ExecuteTime": {
     "end_time": "2020-06-27T23:48:30.042857Z",
     "start_time": "2020-06-27T23:48:29.382990Z"
    }
   },
   "outputs": [],
   "source": [
    "import pandas as pd\n",
    "import xarray as xr\n",
    "import pathlib\n",
    "import json"
   ]
  },
  {
   "cell_type": "markdown",
   "metadata": {},
   "source": [
    "## Ingested Data"
   ]
  },
  {
   "cell_type": "code",
   "execution_count": 2,
   "metadata": {
    "ExecuteTime": {
     "end_time": "2020-06-27T23:48:30.524581Z",
     "start_time": "2020-06-27T23:48:30.044739Z"
    }
   },
   "outputs": [],
   "source": [
    "# ingested dataset where cell id is int\n",
    "\n",
    "cell_tidy_data = pd.read_hdf(\n",
    "    '/home/hanliu/pkg/omb/omb/Data/Dataset/Variables.h5')\n",
    "\n",
    "def read_msgpack(path):\n",
    "    with open(path, 'rb') as f:\n",
    "        data = msgpack.unpackb(f.read())\n",
    "    return data\n",
    "cell_to_int = read_msgpack('/home/hanliu/pkg/omb/omb/Data/Dataset/CellIDMap.msg')\n",
    "\n",
    "int_to_cell = {v: k for k, v in cell_to_int.items()}\n",
    "cell_tidy_data.index = cell_tidy_data.index.map(int_to_cell)"
   ]
  },
  {
   "cell_type": "markdown",
   "metadata": {
    "ExecuteTime": {
     "end_time": "2020-06-27T22:47:19.915571Z",
     "start_time": "2020-06-27T22:47:19.860027Z"
    }
   },
   "source": [
    "## Gene Meta"
   ]
  },
  {
   "cell_type": "code",
   "execution_count": 12,
   "metadata": {
    "ExecuteTime": {
     "end_time": "2020-06-28T02:29:05.223655Z",
     "start_time": "2020-06-28T02:29:04.782710Z"
    }
   },
   "outputs": [
    {
     "name": "stdout",
     "output_type": "stream",
     "text": [
      "(55487, 22)\n"
     ]
    },
    {
     "data": {
      "text/html": [
       "<div>\n",
       "<style scoped>\n",
       "    .dataframe tbody tr th:only-of-type {\n",
       "        vertical-align: middle;\n",
       "    }\n",
       "\n",
       "    .dataframe tbody tr th {\n",
       "        vertical-align: top;\n",
       "    }\n",
       "\n",
       "    .dataframe thead th {\n",
       "        text-align: right;\n",
       "    }\n",
       "</style>\n",
       "<table border=\"1\" class=\"dataframe\">\n",
       "  <thead>\n",
       "    <tr style=\"text-align: right;\">\n",
       "      <th></th>\n",
       "      <th>gene_id</th>\n",
       "      <th>chrom</th>\n",
       "      <th>source</th>\n",
       "      <th>feature</th>\n",
       "      <th>start</th>\n",
       "      <th>end</th>\n",
       "      <th>score</th>\n",
       "      <th>strand</th>\n",
       "      <th>phase</th>\n",
       "      <th>transcript_id</th>\n",
       "      <th>...</th>\n",
       "      <th>gene_name</th>\n",
       "      <th>transcript_type</th>\n",
       "      <th>transcript_status</th>\n",
       "      <th>transcript_name</th>\n",
       "      <th>exon_number</th>\n",
       "      <th>exon_id</th>\n",
       "      <th>level</th>\n",
       "      <th>mgi_id</th>\n",
       "      <th>havana_gene</th>\n",
       "      <th>tag</th>\n",
       "    </tr>\n",
       "    <tr>\n",
       "      <th>gene_id</th>\n",
       "      <th></th>\n",
       "      <th></th>\n",
       "      <th></th>\n",
       "      <th></th>\n",
       "      <th></th>\n",
       "      <th></th>\n",
       "      <th></th>\n",
       "      <th></th>\n",
       "      <th></th>\n",
       "      <th></th>\n",
       "      <th></th>\n",
       "      <th></th>\n",
       "      <th></th>\n",
       "      <th></th>\n",
       "      <th></th>\n",
       "      <th></th>\n",
       "      <th></th>\n",
       "      <th></th>\n",
       "      <th></th>\n",
       "      <th></th>\n",
       "      <th></th>\n",
       "    </tr>\n",
       "  </thead>\n",
       "  <tbody>\n",
       "    <tr>\n",
       "      <th>0</th>\n",
       "      <td>ENSMUSG00000102693.1</td>\n",
       "      <td>chr1</td>\n",
       "      <td>HAVANA</td>\n",
       "      <td>gene</td>\n",
       "      <td>3073253</td>\n",
       "      <td>3074322</td>\n",
       "      <td>.</td>\n",
       "      <td>+</td>\n",
       "      <td>.</td>\n",
       "      <td>NaN</td>\n",
       "      <td>...</td>\n",
       "      <td>4933401J01Rik</td>\n",
       "      <td>NaN</td>\n",
       "      <td>NaN</td>\n",
       "      <td>NaN</td>\n",
       "      <td>NaN</td>\n",
       "      <td>NaN</td>\n",
       "      <td>2</td>\n",
       "      <td>MGI:1918292</td>\n",
       "      <td>OTTMUSG00000049935.1</td>\n",
       "      <td>NaN</td>\n",
       "    </tr>\n",
       "    <tr>\n",
       "      <th>1</th>\n",
       "      <td>ENSMUSG00000064842.1</td>\n",
       "      <td>chr1</td>\n",
       "      <td>ENSEMBL</td>\n",
       "      <td>gene</td>\n",
       "      <td>3102016</td>\n",
       "      <td>3102125</td>\n",
       "      <td>.</td>\n",
       "      <td>+</td>\n",
       "      <td>.</td>\n",
       "      <td>NaN</td>\n",
       "      <td>...</td>\n",
       "      <td>Gm26206</td>\n",
       "      <td>NaN</td>\n",
       "      <td>NaN</td>\n",
       "      <td>NaN</td>\n",
       "      <td>NaN</td>\n",
       "      <td>NaN</td>\n",
       "      <td>3</td>\n",
       "      <td>MGI:5455983</td>\n",
       "      <td>NaN</td>\n",
       "      <td>NaN</td>\n",
       "    </tr>\n",
       "    <tr>\n",
       "      <th>2</th>\n",
       "      <td>ENSMUSG00000051951.5</td>\n",
       "      <td>chr1</td>\n",
       "      <td>HAVANA</td>\n",
       "      <td>gene</td>\n",
       "      <td>3205901</td>\n",
       "      <td>3671498</td>\n",
       "      <td>.</td>\n",
       "      <td>-</td>\n",
       "      <td>.</td>\n",
       "      <td>NaN</td>\n",
       "      <td>...</td>\n",
       "      <td>Xkr4</td>\n",
       "      <td>NaN</td>\n",
       "      <td>NaN</td>\n",
       "      <td>NaN</td>\n",
       "      <td>NaN</td>\n",
       "      <td>NaN</td>\n",
       "      <td>2</td>\n",
       "      <td>MGI:3528744</td>\n",
       "      <td>OTTMUSG00000026353.2</td>\n",
       "      <td>NaN</td>\n",
       "    </tr>\n",
       "    <tr>\n",
       "      <th>3</th>\n",
       "      <td>ENSMUSG00000102851.1</td>\n",
       "      <td>chr1</td>\n",
       "      <td>HAVANA</td>\n",
       "      <td>gene</td>\n",
       "      <td>3252757</td>\n",
       "      <td>3253236</td>\n",
       "      <td>.</td>\n",
       "      <td>+</td>\n",
       "      <td>.</td>\n",
       "      <td>NaN</td>\n",
       "      <td>...</td>\n",
       "      <td>Gm18956</td>\n",
       "      <td>NaN</td>\n",
       "      <td>NaN</td>\n",
       "      <td>NaN</td>\n",
       "      <td>NaN</td>\n",
       "      <td>NaN</td>\n",
       "      <td>1</td>\n",
       "      <td>MGI:5011141</td>\n",
       "      <td>OTTMUSG00000049958.1</td>\n",
       "      <td>pseudo_consens</td>\n",
       "    </tr>\n",
       "    <tr>\n",
       "      <th>4</th>\n",
       "      <td>ENSMUSG00000103377.1</td>\n",
       "      <td>chr1</td>\n",
       "      <td>HAVANA</td>\n",
       "      <td>gene</td>\n",
       "      <td>3365731</td>\n",
       "      <td>3368549</td>\n",
       "      <td>.</td>\n",
       "      <td>-</td>\n",
       "      <td>.</td>\n",
       "      <td>NaN</td>\n",
       "      <td>...</td>\n",
       "      <td>Gm37180</td>\n",
       "      <td>NaN</td>\n",
       "      <td>NaN</td>\n",
       "      <td>NaN</td>\n",
       "      <td>NaN</td>\n",
       "      <td>NaN</td>\n",
       "      <td>2</td>\n",
       "      <td>MGI:5610408</td>\n",
       "      <td>OTTMUSG00000049960.1</td>\n",
       "      <td>NaN</td>\n",
       "    </tr>\n",
       "  </tbody>\n",
       "</table>\n",
       "<p>5 rows × 22 columns</p>\n",
       "</div>"
      ],
      "text/plain": [
       "                      gene_id chrom   source feature    start      end score  \\\n",
       "gene_id                                                                        \n",
       "0        ENSMUSG00000102693.1  chr1   HAVANA    gene  3073253  3074322     .   \n",
       "1        ENSMUSG00000064842.1  chr1  ENSEMBL    gene  3102016  3102125     .   \n",
       "2        ENSMUSG00000051951.5  chr1   HAVANA    gene  3205901  3671498     .   \n",
       "3        ENSMUSG00000102851.1  chr1   HAVANA    gene  3252757  3253236     .   \n",
       "4        ENSMUSG00000103377.1  chr1   HAVANA    gene  3365731  3368549     .   \n",
       "\n",
       "        strand phase  transcript_id  ...      gene_name  transcript_type  \\\n",
       "gene_id                              ...                                   \n",
       "0            +     .            NaN  ...  4933401J01Rik              NaN   \n",
       "1            +     .            NaN  ...        Gm26206              NaN   \n",
       "2            -     .            NaN  ...           Xkr4              NaN   \n",
       "3            +     .            NaN  ...        Gm18956              NaN   \n",
       "4            -     .            NaN  ...        Gm37180              NaN   \n",
       "\n",
       "        transcript_status  transcript_name  exon_number  exon_id  level  \\\n",
       "gene_id                                                                   \n",
       "0                     NaN              NaN          NaN      NaN      2   \n",
       "1                     NaN              NaN          NaN      NaN      3   \n",
       "2                     NaN              NaN          NaN      NaN      2   \n",
       "3                     NaN              NaN          NaN      NaN      1   \n",
       "4                     NaN              NaN          NaN      NaN      2   \n",
       "\n",
       "              mgi_id           havana_gene             tag  \n",
       "gene_id                                                     \n",
       "0        MGI:1918292  OTTMUSG00000049935.1             NaN  \n",
       "1        MGI:5455983                   NaN             NaN  \n",
       "2        MGI:3528744  OTTMUSG00000026353.2             NaN  \n",
       "3        MGI:5011141  OTTMUSG00000049958.1  pseudo_consens  \n",
       "4        MGI:5610408  OTTMUSG00000049960.1             NaN  \n",
       "\n",
       "[5 rows x 22 columns]"
      ]
     },
     "execution_count": 12,
     "metadata": {},
     "output_type": "execute_result"
    }
   ],
   "source": [
    "gene_meta = pd.read_csv(\n",
    "    '/home/hanliu/ref/mouse/gencode/vm22/gencode.vM22.annotation.gene.flat.tsv.gz',\n",
    "    index_col='gene_id',\n",
    "    sep='\\t')\n",
    "\n",
    "gene_to_int = {g: i for i, g in enumerate(gene_meta.index)}\n",
    "gene_meta = gene_meta.reset_index()\n",
    "gene_meta.index = gene_meta['gene_id'].map(gene_to_int)\n",
    "print(gene_meta.shape)\n",
    "gene_meta.head()"
   ]
  },
  {
   "cell_type": "code",
   "execution_count": 20,
   "metadata": {
    "ExecuteTime": {
     "end_time": "2020-06-28T02:31:51.711318Z",
     "start_time": "2020-06-28T02:31:50.904957Z"
    }
   },
   "outputs": [],
   "source": [
    "use_columns = [\n",
    "    'gene_id', 'chrom', 'start', 'end', 'strand', 'gene_type', 'gene_name',\n",
    "    'level', 'mgi_id', 'tag'\n",
    "]\n",
    "gene_meta = gene_meta[use_columns].fillna('-')\n",
    "gene_meta.index = 'gene_int'\n",
    "gene_meta.to_csv('GeneMeta.csv.gz')"
   ]
  },
  {
   "cell_type": "markdown",
   "metadata": {},
   "source": [
    "## Gene Rate\n",
    "\n",
    "When doing analysis, we use cell chunks, but when loading gene data for visualization, we use gene chunks and load all cell, here it take some time to resave the data, but after that, load gene data for all cell is lightening fast"
   ]
  },
  {
   "cell_type": "code",
   "execution_count": 4,
   "metadata": {
    "ExecuteTime": {
     "end_time": "2020-06-27T23:48:30.764465Z",
     "start_time": "2020-06-27T23:48:30.762432Z"
    }
   },
   "outputs": [],
   "source": [
    "chunk_size = 20"
   ]
  },
  {
   "cell_type": "code",
   "execution_count": 5,
   "metadata": {
    "ExecuteTime": {
     "end_time": "2020-06-27T23:48:30.768443Z",
     "start_time": "2020-06-27T23:48:30.765790Z"
    }
   },
   "outputs": [],
   "source": [
    "gene_rate_mcds_list = list(\n",
    "    pathlib.Path(\n",
    "        '/home/hanliu/project/mouse_rostral_brain/study/Level1-CellClass/ALL_manual/Adata/'\n",
    "    ).glob('GeneWithSlop2kb.gene_da_rate.*.mcds'))"
   ]
  },
  {
   "cell_type": "code",
   "execution_count": 6,
   "metadata": {
    "ExecuteTime": {
     "end_time": "2020-06-27T23:49:15.794695Z",
     "start_time": "2020-06-27T23:48:30.769699Z"
    }
   },
   "outputs": [
    {
     "data": {
      "text/html": [
       "<pre>&lt;xarray.Dataset&gt;\n",
       "Dimensions:  (cell: 104340, gene: 55487, mc_type: 2)\n",
       "Coordinates:\n",
       "  * gene     (gene) int64 0 1 2 3 4 5 6 ... 55481 55482 55483 55484 55485 55486\n",
       "  * mc_type  (mc_type) object &#x27;CGN&#x27; &#x27;CHN&#x27;\n",
       "  * cell     (cell) object &#x27;1A_M_0&#x27; &#x27;1A_M_1&#x27; ... &#x27;10F_M_997&#x27; &#x27;10F_M_998&#x27;\n",
       "Data variables:\n",
       "    gene_da  (cell, gene, mc_type) float64 dask.array&lt;chunksize=(10000, 20, 2), meta=np.ndarray&gt;</pre>"
      ],
      "text/plain": [
       "<xarray.Dataset>\n",
       "Dimensions:  (cell: 104340, gene: 55487, mc_type: 2)\n",
       "Coordinates:\n",
       "  * gene     (gene) int64 0 1 2 3 4 5 6 ... 55481 55482 55483 55484 55485 55486\n",
       "  * mc_type  (mc_type) object 'CGN' 'CHN'\n",
       "  * cell     (cell) object '1A_M_0' '1A_M_1' ... '10F_M_997' '10F_M_998'\n",
       "Data variables:\n",
       "    gene_da  (cell, gene, mc_type) float64 dask.array<chunksize=(10000, 20, 2), meta=np.ndarray>"
      ]
     },
     "execution_count": 6,
     "metadata": {},
     "output_type": "execute_result"
    }
   ],
   "source": [
    "mcds = xr.open_mfdataset(gene_rate_mcds_list,\n",
    "                         concat_dim='cell',\n",
    "                         combine='nested',\n",
    "                         chunks={'gene': chunk_size})\n",
    "\n",
    "mcds.coords['gene'] = mcds.get_index('gene').map(gene_to_int)\n",
    "\n",
    "del mcds.coords['strand_type']\n",
    "del mcds.coords['geneslop2k_end']\n",
    "del mcds.coords['geneslop2k_start']\n",
    "del mcds.coords['geneslop2k_chrom']\n",
    "\n",
    "mcds"
   ]
  },
  {
   "cell_type": "code",
   "execution_count": null,
   "metadata": {},
   "outputs": [],
   "source": []
  },
  {
   "cell_type": "markdown",
   "metadata": {},
   "source": [
    "### Save chunks"
   ]
  },
  {
   "cell_type": "code",
   "execution_count": 7,
   "metadata": {
    "ExecuteTime": {
     "end_time": "2020-06-28T01:27:31.376198Z",
     "start_time": "2020-06-27T23:49:15.796679Z"
    },
    "scrolled": true
   },
   "outputs": [
    {
     "name": "stdout",
     "output_type": "stream",
     "text": [
      "chunk 0\n",
      "chunk 1000\n",
      "chunk 2000\n",
      "chunk 3000\n",
      "chunk 4000\n",
      "chunk 5000\n",
      "chunk 6000\n",
      "chunk 7000\n",
      "chunk 8000\n",
      "chunk 9000\n",
      "chunk 10000\n",
      "chunk 11000\n",
      "chunk 12000\n",
      "chunk 13000\n",
      "chunk 14000\n",
      "chunk 15000\n",
      "chunk 16000\n",
      "chunk 17000\n",
      "chunk 18000\n",
      "chunk 19000\n",
      "chunk 20000\n",
      "chunk 21000\n",
      "chunk 22000\n",
      "chunk 23000\n",
      "chunk 24000\n",
      "chunk 25000\n",
      "chunk 26000\n",
      "chunk 27000\n",
      "chunk 28000\n",
      "chunk 29000\n",
      "chunk 30000\n",
      "chunk 31000\n",
      "chunk 32000\n",
      "chunk 33000\n",
      "chunk 34000\n",
      "chunk 35000\n",
      "chunk 36000\n",
      "chunk 37000\n",
      "chunk 38000\n",
      "chunk 39000\n",
      "chunk 40000\n",
      "chunk 41000\n",
      "chunk 42000\n",
      "chunk 43000\n",
      "chunk 44000\n",
      "chunk 45000\n",
      "chunk 46000\n",
      "chunk 47000\n",
      "chunk 48000\n",
      "chunk 49000\n",
      "chunk 50000\n",
      "chunk 51000\n",
      "chunk 52000\n",
      "chunk 53000\n",
      "chunk 54000\n",
      "chunk 55000\n"
     ]
    }
   ],
   "source": [
    "save_chunk_size = 1000\n",
    "\n",
    "gene_index = mcds.get_index('gene')\n",
    "\n",
    "\n",
    "def load_and_save(genes, i):\n",
    "    mcds_chunk = mcds.sel(gene=genes).load().sel(\n",
    "        cell=pd.Index(cell_to_int.keys()))\n",
    "    mcds_chunk.coords['cell'] = mcds_chunk.get_index('cell').map(cell_to_int)\n",
    "    mcds_chunk.to_netcdf(\n",
    "        f'GeneSlop2K.Bayes.Norm.CHCG.chunk{int(i//save_chunk_size)}.mcds')\n",
    "    return\n",
    "\n",
    "\n",
    "chunks = []\n",
    "for i in range(0, gene_index.size, save_chunk_size):\n",
    "    print('chunk', i)\n",
    "    genes = gene_index[i:i + save_chunk_size]\n",
    "    load_and_save(genes, i)"
   ]
  },
  {
   "cell_type": "markdown",
   "metadata": {},
   "source": [
    "### Gene to chunk name"
   ]
  },
  {
   "cell_type": "code",
   "execution_count": 21,
   "metadata": {
    "ExecuteTime": {
     "end_time": "2020-06-28T02:32:31.740467Z",
     "start_time": "2020-06-28T02:32:31.622841Z"
    }
   },
   "outputs": [],
   "source": [
    "records = {}\n",
    "for i in range(0, gene_index.size, save_chunk_size):\n",
    "    genes = gene_index[i:i + save_chunk_size]\n",
    "    for g in genes:\n",
    "        records[\n",
    "            g] = f'GeneSlop2K.Bayes.Norm.CHCG.chunk{int(i//save_chunk_size)}.mcds'\n",
    "with open('GeneToMCDSName.json', 'w') as f:\n",
    "    json.dump(records, f)"
   ]
  },
  {
   "cell_type": "markdown",
   "metadata": {},
   "source": [
    "### Load an example"
   ]
  },
  {
   "cell_type": "code",
   "execution_count": 38,
   "metadata": {
    "ExecuteTime": {
     "end_time": "2020-06-28T02:37:47.835145Z",
     "start_time": "2020-06-28T02:37:45.754989Z"
    }
   },
   "outputs": [
    {
     "name": "stdout",
     "output_type": "stream",
     "text": [
      "258 ms ± 3.69 ms per loop (mean ± std. dev. of 7 runs, 1 loop each)\n"
     ]
    }
   ],
   "source": [
    "%%timeit\n",
    "xr.open_dataset('./GeneSlop2K.Bayes.Norm.CHCG.chunk20.mcds')['gene_da'].sel(\n",
    "    gene=20001, mc_type='CHN').to_pandas()"
   ]
  },
  {
   "cell_type": "code",
   "execution_count": null,
   "metadata": {},
   "outputs": [],
   "source": []
  },
  {
   "cell_type": "code",
   "execution_count": null,
   "metadata": {},
   "outputs": [],
   "source": []
  },
  {
   "cell_type": "code",
   "execution_count": null,
   "metadata": {},
   "outputs": [],
   "source": []
  },
  {
   "cell_type": "code",
   "execution_count": null,
   "metadata": {},
   "outputs": [],
   "source": []
  }
 ],
 "metadata": {
  "hide_input": false,
  "kernelspec": {
   "display_name": "Python 3",
   "language": "python",
   "name": "python3"
  },
  "language_info": {
   "codemirror_mode": {
    "name": "ipython",
    "version": 3
   },
   "file_extension": ".py",
   "mimetype": "text/x-python",
   "name": "python",
   "nbconvert_exporter": "python",
   "pygments_lexer": "ipython3",
   "version": "3.7.6"
  },
  "toc": {
   "base_numbering": 1,
   "nav_menu": {},
   "number_sections": true,
   "sideBar": true,
   "skip_h1_title": true,
   "title_cell": "Table of Contents",
   "title_sidebar": "Contents",
   "toc_cell": false,
   "toc_position": {},
   "toc_section_display": true,
   "toc_window_display": true
  }
 },
 "nbformat": 4,
 "nbformat_minor": 2
}
