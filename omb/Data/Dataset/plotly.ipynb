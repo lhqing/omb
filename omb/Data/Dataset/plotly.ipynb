{
 "cells": [
  {
   "cell_type": "code",
   "execution_count": 1,
   "metadata": {
    "ExecuteTime": {
     "end_time": "2020-04-19T02:07:31.894805Z",
     "start_time": "2020-04-19T02:07:31.890104Z"
    }
   },
   "outputs": [],
   "source": [
    "import pandas as pd\n",
    "import plotly.express as px\n",
    "import msgpack\n",
    "\n",
    "\n",
    "def read_msgpack(path):\n",
    "    with open(path, 'rb') as f:\n",
    "        data = msgpack.unpackb(f.read())\n",
    "    return data\n"
   ]
  },
  {
   "cell_type": "code",
   "execution_count": 2,
   "metadata": {
    "ExecuteTime": {
     "end_time": "2020-04-19T02:07:33.019324Z",
     "start_time": "2020-04-19T02:07:31.897736Z"
    }
   },
   "outputs": [],
   "source": [
    "data = pd.read_hdf('Variables.h5', key='data')\n",
    "with pd.HDFStore('Coords.h5') as hdf:\n",
    "    coord_dict = {k.lstrip('/'): hdf[k] for k in hdf.keys()}\n",
    "palette = read_msgpack('Palette.msg')"
   ]
  },
  {
   "cell_type": "code",
   "execution_count": 3,
   "metadata": {
    "ExecuteTime": {
     "end_time": "2020-04-19T02:30:51.931063Z",
     "start_time": "2020-04-19T02:30:51.323937Z"
    }
   },
   "outputs": [
    {
     "data": {
      "text/html": [
       "<div>\n",
       "<style scoped>\n",
       "    .dataframe tbody tr th:only-of-type {\n",
       "        vertical-align: middle;\n",
       "    }\n",
       "\n",
       "    .dataframe tbody tr th {\n",
       "        vertical-align: top;\n",
       "    }\n",
       "\n",
       "    .dataframe thead th {\n",
       "        text-align: right;\n",
       "    }\n",
       "</style>\n",
       "<table border=\"1\" class=\"dataframe\">\n",
       "  <thead>\n",
       "    <tr style=\"text-align: right;\">\n",
       "      <th></th>\n",
       "      <th>RegionName</th>\n",
       "      <th>MajorRegion</th>\n",
       "      <th>SubRegion</th>\n",
       "      <th>Region</th>\n",
       "      <th>Slice</th>\n",
       "      <th>CellClass</th>\n",
       "      <th>MajorType</th>\n",
       "      <th>SubType</th>\n",
       "      <th>Replicate</th>\n",
       "      <th>Pos96</th>\n",
       "      <th>...</th>\n",
       "      <th>CCC_Rate</th>\n",
       "      <th>CG_Rate</th>\n",
       "      <th>CG_RateAdj</th>\n",
       "      <th>CH_Rate</th>\n",
       "      <th>CH_RateAdj</th>\n",
       "      <th>FinalReads</th>\n",
       "      <th>InputReads</th>\n",
       "      <th>MappedReads</th>\n",
       "      <th>BamFilteringRate</th>\n",
       "      <th>MappingRate</th>\n",
       "    </tr>\n",
       "  </thead>\n",
       "  <tbody>\n",
       "    <tr>\n",
       "      <th>0</th>\n",
       "      <td>SSp-2</td>\n",
       "      <td>Isocortex</td>\n",
       "      <td>SSp</td>\n",
       "      <td>5B</td>\n",
       "      <td>5</td>\n",
       "      <td>Inh</td>\n",
       "      <td>MGE-Sst</td>\n",
       "      <td>MGE-Sst Dock4</td>\n",
       "      <td>5B-180514</td>\n",
       "      <td>E3</td>\n",
       "      <td>...</td>\n",
       "      <td>0.009010</td>\n",
       "      <td>0.838600</td>\n",
       "      <td>0.837130</td>\n",
       "      <td>0.043650</td>\n",
       "      <td>0.034950</td>\n",
       "      <td>1353411.0</td>\n",
       "      <td>3228396.0</td>\n",
       "      <td>2150515.0</td>\n",
       "      <td>0.629343</td>\n",
       "      <td>0.666125</td>\n",
       "    </tr>\n",
       "    <tr>\n",
       "      <th>1</th>\n",
       "      <td>MOs-2</td>\n",
       "      <td>Isocortex</td>\n",
       "      <td>MOs</td>\n",
       "      <td>2B</td>\n",
       "      <td>2</td>\n",
       "      <td>Exc</td>\n",
       "      <td>PT-L5</td>\n",
       "      <td>PT-L5 Kcnh1</td>\n",
       "      <td>2B-180306</td>\n",
       "      <td>C10</td>\n",
       "      <td>...</td>\n",
       "      <td>0.006890</td>\n",
       "      <td>0.779250</td>\n",
       "      <td>0.777720</td>\n",
       "      <td>0.033480</td>\n",
       "      <td>0.026770</td>\n",
       "      <td>1477444.0</td>\n",
       "      <td>3264756.0</td>\n",
       "      <td>2162894.0</td>\n",
       "      <td>0.683087</td>\n",
       "      <td>0.662498</td>\n",
       "    </tr>\n",
       "    <tr>\n",
       "      <th>2</th>\n",
       "      <td>PIR-1</td>\n",
       "      <td>OLF</td>\n",
       "      <td>PIR</td>\n",
       "      <td>2D</td>\n",
       "      <td>2</td>\n",
       "      <td>Exc</td>\n",
       "      <td>OLF-Exc</td>\n",
       "      <td>OLF-Exc Bmpr1b</td>\n",
       "      <td>2D-180403</td>\n",
       "      <td>E3</td>\n",
       "      <td>...</td>\n",
       "      <td>0.005600</td>\n",
       "      <td>0.781040</td>\n",
       "      <td>0.779810</td>\n",
       "      <td>0.028120</td>\n",
       "      <td>0.022650</td>\n",
       "      <td>1290745.0</td>\n",
       "      <td>2875510.0</td>\n",
       "      <td>1909788.0</td>\n",
       "      <td>0.675858</td>\n",
       "      <td>0.664156</td>\n",
       "    </tr>\n",
       "    <tr>\n",
       "      <th>3</th>\n",
       "      <td>DG-2</td>\n",
       "      <td>HPF</td>\n",
       "      <td>DG</td>\n",
       "      <td>9J</td>\n",
       "      <td>9</td>\n",
       "      <td>Exc</td>\n",
       "      <td>DG</td>\n",
       "      <td>DG dg-all</td>\n",
       "      <td>9J-190212</td>\n",
       "      <td>G6</td>\n",
       "      <td>...</td>\n",
       "      <td>0.003905</td>\n",
       "      <td>0.703140</td>\n",
       "      <td>0.701976</td>\n",
       "      <td>0.008148</td>\n",
       "      <td>0.004260</td>\n",
       "      <td>1519997.0</td>\n",
       "      <td>3775868.0</td>\n",
       "      <td>2571553.0</td>\n",
       "      <td>0.591081</td>\n",
       "      <td>0.681050</td>\n",
       "    </tr>\n",
       "    <tr>\n",
       "      <th>4</th>\n",
       "      <td>PAL-1</td>\n",
       "      <td>CNU</td>\n",
       "      <td>PAL</td>\n",
       "      <td>4H</td>\n",
       "      <td>4</td>\n",
       "      <td>Inh</td>\n",
       "      <td>PAL-Inh</td>\n",
       "      <td>PAL-Inh Ptprd</td>\n",
       "      <td>4H-180911</td>\n",
       "      <td>C9</td>\n",
       "      <td>...</td>\n",
       "      <td>0.005510</td>\n",
       "      <td>0.835390</td>\n",
       "      <td>0.834480</td>\n",
       "      <td>0.025420</td>\n",
       "      <td>0.020020</td>\n",
       "      <td>2149117.0</td>\n",
       "      <td>6032772.0</td>\n",
       "      <td>4047727.0</td>\n",
       "      <td>0.530944</td>\n",
       "      <td>0.670956</td>\n",
       "    </tr>\n",
       "    <tr>\n",
       "      <th>...</th>\n",
       "      <td>...</td>\n",
       "      <td>...</td>\n",
       "      <td>...</td>\n",
       "      <td>...</td>\n",
       "      <td>...</td>\n",
       "      <td>...</td>\n",
       "      <td>...</td>\n",
       "      <td>...</td>\n",
       "      <td>...</td>\n",
       "      <td>...</td>\n",
       "      <td>...</td>\n",
       "      <td>...</td>\n",
       "      <td>...</td>\n",
       "      <td>...</td>\n",
       "      <td>...</td>\n",
       "      <td>...</td>\n",
       "      <td>...</td>\n",
       "      <td>...</td>\n",
       "      <td>...</td>\n",
       "      <td>...</td>\n",
       "      <td>...</td>\n",
       "    </tr>\n",
       "    <tr>\n",
       "      <th>103977</th>\n",
       "      <td>DG-1</td>\n",
       "      <td>HPF</td>\n",
       "      <td>DG</td>\n",
       "      <td>8J</td>\n",
       "      <td>8</td>\n",
       "      <td>Exc</td>\n",
       "      <td>DG</td>\n",
       "      <td>DG dg-all</td>\n",
       "      <td>8J-190716</td>\n",
       "      <td>C7</td>\n",
       "      <td>...</td>\n",
       "      <td>0.004336</td>\n",
       "      <td>0.736098</td>\n",
       "      <td>0.734949</td>\n",
       "      <td>0.010825</td>\n",
       "      <td>0.006518</td>\n",
       "      <td>1275344.0</td>\n",
       "      <td>3081404.0</td>\n",
       "      <td>2096008.0</td>\n",
       "      <td>0.608463</td>\n",
       "      <td>0.680212</td>\n",
       "    </tr>\n",
       "    <tr>\n",
       "      <th>103978</th>\n",
       "      <td>LSX-1</td>\n",
       "      <td>CNU</td>\n",
       "      <td>LSX</td>\n",
       "      <td>4G</td>\n",
       "      <td>4</td>\n",
       "      <td>Exc</td>\n",
       "      <td>CT-L6</td>\n",
       "      <td>CT-L6 Megf9</td>\n",
       "      <td>4G-181204</td>\n",
       "      <td>C7</td>\n",
       "      <td>...</td>\n",
       "      <td>0.006641</td>\n",
       "      <td>0.833156</td>\n",
       "      <td>0.832041</td>\n",
       "      <td>0.029949</td>\n",
       "      <td>0.023464</td>\n",
       "      <td>1092657.0</td>\n",
       "      <td>3154332.0</td>\n",
       "      <td>2102205.0</td>\n",
       "      <td>0.519767</td>\n",
       "      <td>0.666450</td>\n",
       "    </tr>\n",
       "    <tr>\n",
       "      <th>103979</th>\n",
       "      <td>MOp-3</td>\n",
       "      <td>Isocortex</td>\n",
       "      <td>MOp</td>\n",
       "      <td>4B</td>\n",
       "      <td>4</td>\n",
       "      <td>Inh</td>\n",
       "      <td>CGE-Vip</td>\n",
       "      <td>CGE-Vip Galnt17</td>\n",
       "      <td>4B-171213</td>\n",
       "      <td>G3</td>\n",
       "      <td>...</td>\n",
       "      <td>0.008150</td>\n",
       "      <td>0.818810</td>\n",
       "      <td>0.817320</td>\n",
       "      <td>0.030900</td>\n",
       "      <td>0.022940</td>\n",
       "      <td>2427766.0</td>\n",
       "      <td>6231672.0</td>\n",
       "      <td>3847441.0</td>\n",
       "      <td>0.631008</td>\n",
       "      <td>0.617401</td>\n",
       "    </tr>\n",
       "    <tr>\n",
       "      <th>103980</th>\n",
       "      <td>CA-3</td>\n",
       "      <td>HPF</td>\n",
       "      <td>CA1-3</td>\n",
       "      <td>10E</td>\n",
       "      <td>10</td>\n",
       "      <td>Exc</td>\n",
       "      <td>CA3</td>\n",
       "      <td>CA3 Cadm2</td>\n",
       "      <td>10E-190625</td>\n",
       "      <td>G11</td>\n",
       "      <td>...</td>\n",
       "      <td>0.006423</td>\n",
       "      <td>0.751613</td>\n",
       "      <td>0.750008</td>\n",
       "      <td>0.027002</td>\n",
       "      <td>0.020712</td>\n",
       "      <td>1579198.0</td>\n",
       "      <td>3970912.0</td>\n",
       "      <td>2635635.0</td>\n",
       "      <td>0.599172</td>\n",
       "      <td>0.663735</td>\n",
       "    </tr>\n",
       "    <tr>\n",
       "      <th>103981</th>\n",
       "      <td>SSp-4</td>\n",
       "      <td>Isocortex</td>\n",
       "      <td>SSp</td>\n",
       "      <td>7B</td>\n",
       "      <td>7</td>\n",
       "      <td>Exc</td>\n",
       "      <td>IT-L23</td>\n",
       "      <td>IT-L23 Cux1</td>\n",
       "      <td>7B-180424</td>\n",
       "      <td>E10</td>\n",
       "      <td>...</td>\n",
       "      <td>0.005760</td>\n",
       "      <td>0.778520</td>\n",
       "      <td>0.777240</td>\n",
       "      <td>0.026130</td>\n",
       "      <td>0.020490</td>\n",
       "      <td>1480486.0</td>\n",
       "      <td>3483576.0</td>\n",
       "      <td>2369315.0</td>\n",
       "      <td>0.624858</td>\n",
       "      <td>0.680139</td>\n",
       "    </tr>\n",
       "  </tbody>\n",
       "</table>\n",
       "<p>103982 rows × 26 columns</p>\n",
       "</div>"
      ],
      "text/plain": [
       "       RegionName MajorRegion SubRegion Region Slice CellClass MajorType  \\\n",
       "0           SSp-2   Isocortex       SSp     5B     5       Inh   MGE-Sst   \n",
       "1           MOs-2   Isocortex       MOs     2B     2       Exc     PT-L5   \n",
       "2           PIR-1         OLF       PIR     2D     2       Exc   OLF-Exc   \n",
       "3            DG-2         HPF        DG     9J     9       Exc        DG   \n",
       "4           PAL-1         CNU       PAL     4H     4       Inh   PAL-Inh   \n",
       "...           ...         ...       ...    ...   ...       ...       ...   \n",
       "103977       DG-1         HPF        DG     8J     8       Exc        DG   \n",
       "103978      LSX-1         CNU       LSX     4G     4       Exc     CT-L6   \n",
       "103979      MOp-3   Isocortex       MOp     4B     4       Inh   CGE-Vip   \n",
       "103980       CA-3         HPF     CA1-3    10E    10       Exc       CA3   \n",
       "103981      SSp-4   Isocortex       SSp     7B     7       Exc    IT-L23   \n",
       "\n",
       "                SubType   Replicate Pos96  ...  CCC_Rate   CG_Rate CG_RateAdj  \\\n",
       "0         MGE-Sst Dock4   5B-180514    E3  ...  0.009010  0.838600   0.837130   \n",
       "1           PT-L5 Kcnh1   2B-180306   C10  ...  0.006890  0.779250   0.777720   \n",
       "2        OLF-Exc Bmpr1b   2D-180403    E3  ...  0.005600  0.781040   0.779810   \n",
       "3             DG dg-all   9J-190212    G6  ...  0.003905  0.703140   0.701976   \n",
       "4         PAL-Inh Ptprd   4H-180911    C9  ...  0.005510  0.835390   0.834480   \n",
       "...                 ...         ...   ...  ...       ...       ...        ...   \n",
       "103977        DG dg-all   8J-190716    C7  ...  0.004336  0.736098   0.734949   \n",
       "103978      CT-L6 Megf9   4G-181204    C7  ...  0.006641  0.833156   0.832041   \n",
       "103979  CGE-Vip Galnt17   4B-171213    G3  ...  0.008150  0.818810   0.817320   \n",
       "103980        CA3 Cadm2  10E-190625   G11  ...  0.006423  0.751613   0.750008   \n",
       "103981      IT-L23 Cux1   7B-180424   E10  ...  0.005760  0.778520   0.777240   \n",
       "\n",
       "         CH_Rate CH_RateAdj FinalReads  InputReads  MappedReads  \\\n",
       "0       0.043650   0.034950  1353411.0   3228396.0    2150515.0   \n",
       "1       0.033480   0.026770  1477444.0   3264756.0    2162894.0   \n",
       "2       0.028120   0.022650  1290745.0   2875510.0    1909788.0   \n",
       "3       0.008148   0.004260  1519997.0   3775868.0    2571553.0   \n",
       "4       0.025420   0.020020  2149117.0   6032772.0    4047727.0   \n",
       "...          ...        ...        ...         ...          ...   \n",
       "103977  0.010825   0.006518  1275344.0   3081404.0    2096008.0   \n",
       "103978  0.029949   0.023464  1092657.0   3154332.0    2102205.0   \n",
       "103979  0.030900   0.022940  2427766.0   6231672.0    3847441.0   \n",
       "103980  0.027002   0.020712  1579198.0   3970912.0    2635635.0   \n",
       "103981  0.026130   0.020490  1480486.0   3483576.0    2369315.0   \n",
       "\n",
       "        BamFilteringRate  MappingRate  \n",
       "0               0.629343     0.666125  \n",
       "1               0.683087     0.662498  \n",
       "2               0.675858     0.664156  \n",
       "3               0.591081     0.681050  \n",
       "4               0.530944     0.670956  \n",
       "...                  ...          ...  \n",
       "103977          0.608463     0.680212  \n",
       "103978          0.519767     0.666450  \n",
       "103979          0.631008     0.617401  \n",
       "103980          0.599172     0.663735  \n",
       "103981          0.624858     0.680139  \n",
       "\n",
       "[103982 rows x 26 columns]"
      ]
     },
     "execution_count": 3,
     "metadata": {},
     "output_type": "execute_result"
    }
   ],
   "source": [
    "data"
   ]
  },
  {
   "cell_type": "code",
   "execution_count": 4,
   "metadata": {
    "ExecuteTime": {
     "end_time": "2020-04-19T02:07:33.058025Z",
     "start_time": "2020-04-19T02:07:33.039043Z"
    }
   },
   "outputs": [],
   "source": [
    "hue_name = 'Region'\n",
    "\n",
    "hue_palette = palette[hue_name]\n",
    "plot_df = coord_dict['L1UMAP']\n",
    "plot_df[hue_name] = data[hue_name]"
   ]
  },
  {
   "cell_type": "code",
   "execution_count": 5,
   "metadata": {
    "ExecuteTime": {
     "end_time": "2020-04-19T02:07:33.071302Z",
     "start_time": "2020-04-19T02:07:33.060770Z"
    }
   },
   "outputs": [],
   "source": [
    "def categorical_scatter(coord_name, hue_name):\n",
    "    hue_palette = palette[hue_name]\n",
    "    plot_df = coord_dict[coord_name]\n",
    "    plot_df[hue_name] = data[hue_name]\n",
    "    \n",
    "    fig = px.scatter(plot_df,\n",
    "                 x=\"x\",\n",
    "                 y=\"y\",\n",
    "                 color=hue_name,\n",
    "                 color_discrete_map=hue_palette)\n",
    "    fig.update_layout(showlegend=False,\n",
    "                  legend={'itemsizing': 'constant'},\n",
    "                  xaxis=go.layout.XAxis(title='', showticklabels=False),\n",
    "                  yaxis=go.layout.YAxis(title='', showticklabels=False),\n",
    "                  plot_bgcolor='rgba(0,0,0,0)',\n",
    "                  paper_bgcolor='rgba(0,0,0,0)')\n",
    "\n",
    "    fig.update_traces(mode='markers', marker_size=0.01)\n",
    "    return figure"
   ]
  },
  {
   "cell_type": "code",
   "execution_count": null,
   "metadata": {
    "ExecuteTime": {
     "end_time": "2020-04-19T02:07:33.092945Z",
     "start_time": "2020-04-19T02:07:33.076737Z"
    }
   },
   "outputs": [],
   "source": []
  },
  {
   "cell_type": "code",
   "execution_count": 21,
   "metadata": {
    "ExecuteTime": {
     "end_time": "2020-04-19T02:46:41.007390Z",
     "start_time": "2020-04-19T02:46:40.998129Z"
    }
   },
   "outputs": [
    {
     "data": {
      "application/vnd.plotly.v1+json": {
       "config": {
        "plotlyServerURL": "https://plot.ly"
       },
       "data": [
        {
         "branchvalues": "total",
         "labels": [
          "10E",
          "10F",
          "11E",
          "11F",
          "1A",
          "1B",
          "1C",
          "2A",
          "2B",
          "2C",
          "2D",
          "2E",
          "3A",
          "3B",
          "3C",
          "3D",
          "3E",
          "3F",
          "4A",
          "4B",
          "4C",
          "4D",
          "4E",
          "4F",
          "4G",
          "4H",
          "5A",
          "5B",
          "5C",
          "5D",
          "5E",
          "5F",
          "5G",
          "5H",
          "5J",
          "6A",
          "6B",
          "6C",
          "6D",
          "7B",
          "8B",
          "8E",
          "8J",
          "9H",
          "9J",
          "ACA",
          "ACB",
          "AI",
          "AON",
          "CA1-3",
          "CP",
          "DG",
          "LSX",
          "MOB",
          "MOp",
          "MOs",
          "ORB",
          "PAL",
          "PFC",
          "PIR",
          "SSp",
          "SSs",
          "CNU",
          "HPF",
          "Isocortex",
          "OLF"
         ],
         "marker": {
          "colors": [
           "#FF6347",
           "#d62728",
           "#3C1518",
           "#800000",
           "#AFCCEC",
           "#c49c94",
           "#FADF63",
           "#F2CE80",
           "#8EE3F4",
           "#399DE5",
           "#F4E287",
           "#ff7f0e",
           "#9B7260",
           "#6FCAD1",
           "#176CDB",
           "#A6D634",
           "#F2BF4A",
           "#DDD2F4",
           "#8c564b",
           "#2F538E",
           "#6BFFB8",
           "#C87AFD",
           "#FFD2FC",
           "#EFB22C",
           "#A376F4",
           "#9467bd",
           "#5E4035",
           "#2CEAA3",
           "#00FF67",
           "#043D7A",
           "#7B42CD",
           "#e377c2",
           "#C67F08",
           "#C24AF4",
           "#B2196B",
           "#231611",
           "#02C757",
           "#0EB733",
           "#D15B03",
           "#2ca02c",
           "#2A6041",
           "#FCDAA4",
           "#FFAAAA",
           "#DC831E",
           "#EF486F",
           "#8c564b",
           "#FFD2FC",
           "#A6D634",
           "#ff7f0e",
           "#d62728",
           "#7B42CD",
           "#d62728",
           "#B2196B",
           "#ff7f0e",
           "#176CDB",
           "#176CDB",
           "#c49c94",
           "#9467bd",
           "#8c564b",
           "#F2BF4A",
           "#2ca02c",
           "#2ca02c",
           "#7B42CD",
           "#d62728",
           "#176CDB",
           "#ff7f0e"
          ]
         },
         "parents": [
          "CA1-3",
          "DG",
          "CA1-3",
          "DG",
          "MOs",
          "ORB",
          "MOB",
          "PFC",
          "MOs",
          "MOp",
          "PIR",
          "AON",
          "PFC",
          "MOs",
          "MOp",
          "AI",
          "PIR",
          "ACB",
          "ACA",
          "MOp",
          "SSp",
          "CP",
          "ACB",
          "PIR",
          "LSX",
          "PAL",
          "ACA",
          "SSp",
          "SSs",
          "MOp",
          "CP",
          "ACB",
          "PIR",
          "PAL",
          "LSX",
          "ACA",
          "SSp",
          "SSs",
          "PIR",
          "SSp",
          "SSp",
          "CA1-3",
          "DG",
          "CA1-3",
          "DG",
          "Isocortex",
          "CNU",
          "Isocortex",
          "OLF",
          "HPF",
          "CNU",
          "HPF",
          "CNU",
          "OLF",
          "Isocortex",
          "Isocortex",
          "Isocortex",
          "CNU",
          "Isocortex",
          "OLF",
          "Isocortex",
          "Isocortex",
          "",
          "",
          "",
          ""
         ],
         "type": "sunburst",
         "values": [
          1659,
          542,
          2406,
          2451,
          2383,
          2736,
          2370,
          2518,
          2381,
          2148,
          2370,
          2612,
          2590,
          2391,
          2386,
          2345,
          2514,
          2085,
          2418,
          2763,
          1961,
          2511,
          1755,
          2552,
          1945,
          2026,
          2361,
          1984,
          2329,
          2319,
          2579,
          2228,
          2596,
          2606,
          1204,
          2623,
          2570,
          2469,
          2535,
          2095,
          2474,
          2536,
          2287,
          2439,
          2516,
          7402,
          6068,
          2345,
          2612,
          9040,
          5090,
          7796,
          3149,
          2370,
          9616,
          7155,
          2736,
          4632,
          5108,
          12567,
          11084,
          4798,
          18939,
          16836,
          50244,
          17549
         ]
        }
       ],
       "layout": {
        "margin": {
         "b": 0,
         "l": 0,
         "r": 0,
         "t": 0
        },
        "template": {
         "data": {
          "bar": [
           {
            "error_x": {
             "color": "#2a3f5f"
            },
            "error_y": {
             "color": "#2a3f5f"
            },
            "marker": {
             "line": {
              "color": "#E5ECF6",
              "width": 0.5
             }
            },
            "type": "bar"
           }
          ],
          "barpolar": [
           {
            "marker": {
             "line": {
              "color": "#E5ECF6",
              "width": 0.5
             }
            },
            "type": "barpolar"
           }
          ],
          "carpet": [
           {
            "aaxis": {
             "endlinecolor": "#2a3f5f",
             "gridcolor": "white",
             "linecolor": "white",
             "minorgridcolor": "white",
             "startlinecolor": "#2a3f5f"
            },
            "baxis": {
             "endlinecolor": "#2a3f5f",
             "gridcolor": "white",
             "linecolor": "white",
             "minorgridcolor": "white",
             "startlinecolor": "#2a3f5f"
            },
            "type": "carpet"
           }
          ],
          "choropleth": [
           {
            "colorbar": {
             "outlinewidth": 0,
             "ticks": ""
            },
            "type": "choropleth"
           }
          ],
          "contour": [
           {
            "colorbar": {
             "outlinewidth": 0,
             "ticks": ""
            },
            "colorscale": [
             [
              0,
              "#0d0887"
             ],
             [
              0.1111111111111111,
              "#46039f"
             ],
             [
              0.2222222222222222,
              "#7201a8"
             ],
             [
              0.3333333333333333,
              "#9c179e"
             ],
             [
              0.4444444444444444,
              "#bd3786"
             ],
             [
              0.5555555555555556,
              "#d8576b"
             ],
             [
              0.6666666666666666,
              "#ed7953"
             ],
             [
              0.7777777777777778,
              "#fb9f3a"
             ],
             [
              0.8888888888888888,
              "#fdca26"
             ],
             [
              1,
              "#f0f921"
             ]
            ],
            "type": "contour"
           }
          ],
          "contourcarpet": [
           {
            "colorbar": {
             "outlinewidth": 0,
             "ticks": ""
            },
            "type": "contourcarpet"
           }
          ],
          "heatmap": [
           {
            "colorbar": {
             "outlinewidth": 0,
             "ticks": ""
            },
            "colorscale": [
             [
              0,
              "#0d0887"
             ],
             [
              0.1111111111111111,
              "#46039f"
             ],
             [
              0.2222222222222222,
              "#7201a8"
             ],
             [
              0.3333333333333333,
              "#9c179e"
             ],
             [
              0.4444444444444444,
              "#bd3786"
             ],
             [
              0.5555555555555556,
              "#d8576b"
             ],
             [
              0.6666666666666666,
              "#ed7953"
             ],
             [
              0.7777777777777778,
              "#fb9f3a"
             ],
             [
              0.8888888888888888,
              "#fdca26"
             ],
             [
              1,
              "#f0f921"
             ]
            ],
            "type": "heatmap"
           }
          ],
          "heatmapgl": [
           {
            "colorbar": {
             "outlinewidth": 0,
             "ticks": ""
            },
            "colorscale": [
             [
              0,
              "#0d0887"
             ],
             [
              0.1111111111111111,
              "#46039f"
             ],
             [
              0.2222222222222222,
              "#7201a8"
             ],
             [
              0.3333333333333333,
              "#9c179e"
             ],
             [
              0.4444444444444444,
              "#bd3786"
             ],
             [
              0.5555555555555556,
              "#d8576b"
             ],
             [
              0.6666666666666666,
              "#ed7953"
             ],
             [
              0.7777777777777778,
              "#fb9f3a"
             ],
             [
              0.8888888888888888,
              "#fdca26"
             ],
             [
              1,
              "#f0f921"
             ]
            ],
            "type": "heatmapgl"
           }
          ],
          "histogram": [
           {
            "marker": {
             "colorbar": {
              "outlinewidth": 0,
              "ticks": ""
             }
            },
            "type": "histogram"
           }
          ],
          "histogram2d": [
           {
            "colorbar": {
             "outlinewidth": 0,
             "ticks": ""
            },
            "colorscale": [
             [
              0,
              "#0d0887"
             ],
             [
              0.1111111111111111,
              "#46039f"
             ],
             [
              0.2222222222222222,
              "#7201a8"
             ],
             [
              0.3333333333333333,
              "#9c179e"
             ],
             [
              0.4444444444444444,
              "#bd3786"
             ],
             [
              0.5555555555555556,
              "#d8576b"
             ],
             [
              0.6666666666666666,
              "#ed7953"
             ],
             [
              0.7777777777777778,
              "#fb9f3a"
             ],
             [
              0.8888888888888888,
              "#fdca26"
             ],
             [
              1,
              "#f0f921"
             ]
            ],
            "type": "histogram2d"
           }
          ],
          "histogram2dcontour": [
           {
            "colorbar": {
             "outlinewidth": 0,
             "ticks": ""
            },
            "colorscale": [
             [
              0,
              "#0d0887"
             ],
             [
              0.1111111111111111,
              "#46039f"
             ],
             [
              0.2222222222222222,
              "#7201a8"
             ],
             [
              0.3333333333333333,
              "#9c179e"
             ],
             [
              0.4444444444444444,
              "#bd3786"
             ],
             [
              0.5555555555555556,
              "#d8576b"
             ],
             [
              0.6666666666666666,
              "#ed7953"
             ],
             [
              0.7777777777777778,
              "#fb9f3a"
             ],
             [
              0.8888888888888888,
              "#fdca26"
             ],
             [
              1,
              "#f0f921"
             ]
            ],
            "type": "histogram2dcontour"
           }
          ],
          "mesh3d": [
           {
            "colorbar": {
             "outlinewidth": 0,
             "ticks": ""
            },
            "type": "mesh3d"
           }
          ],
          "parcoords": [
           {
            "line": {
             "colorbar": {
              "outlinewidth": 0,
              "ticks": ""
             }
            },
            "type": "parcoords"
           }
          ],
          "pie": [
           {
            "automargin": true,
            "type": "pie"
           }
          ],
          "scatter": [
           {
            "marker": {
             "colorbar": {
              "outlinewidth": 0,
              "ticks": ""
             }
            },
            "type": "scatter"
           }
          ],
          "scatter3d": [
           {
            "line": {
             "colorbar": {
              "outlinewidth": 0,
              "ticks": ""
             }
            },
            "marker": {
             "colorbar": {
              "outlinewidth": 0,
              "ticks": ""
             }
            },
            "type": "scatter3d"
           }
          ],
          "scattercarpet": [
           {
            "marker": {
             "colorbar": {
              "outlinewidth": 0,
              "ticks": ""
             }
            },
            "type": "scattercarpet"
           }
          ],
          "scattergeo": [
           {
            "marker": {
             "colorbar": {
              "outlinewidth": 0,
              "ticks": ""
             }
            },
            "type": "scattergeo"
           }
          ],
          "scattergl": [
           {
            "marker": {
             "colorbar": {
              "outlinewidth": 0,
              "ticks": ""
             }
            },
            "type": "scattergl"
           }
          ],
          "scattermapbox": [
           {
            "marker": {
             "colorbar": {
              "outlinewidth": 0,
              "ticks": ""
             }
            },
            "type": "scattermapbox"
           }
          ],
          "scatterpolar": [
           {
            "marker": {
             "colorbar": {
              "outlinewidth": 0,
              "ticks": ""
             }
            },
            "type": "scatterpolar"
           }
          ],
          "scatterpolargl": [
           {
            "marker": {
             "colorbar": {
              "outlinewidth": 0,
              "ticks": ""
             }
            },
            "type": "scatterpolargl"
           }
          ],
          "scatterternary": [
           {
            "marker": {
             "colorbar": {
              "outlinewidth": 0,
              "ticks": ""
             }
            },
            "type": "scatterternary"
           }
          ],
          "surface": [
           {
            "colorbar": {
             "outlinewidth": 0,
             "ticks": ""
            },
            "colorscale": [
             [
              0,
              "#0d0887"
             ],
             [
              0.1111111111111111,
              "#46039f"
             ],
             [
              0.2222222222222222,
              "#7201a8"
             ],
             [
              0.3333333333333333,
              "#9c179e"
             ],
             [
              0.4444444444444444,
              "#bd3786"
             ],
             [
              0.5555555555555556,
              "#d8576b"
             ],
             [
              0.6666666666666666,
              "#ed7953"
             ],
             [
              0.7777777777777778,
              "#fb9f3a"
             ],
             [
              0.8888888888888888,
              "#fdca26"
             ],
             [
              1,
              "#f0f921"
             ]
            ],
            "type": "surface"
           }
          ],
          "table": [
           {
            "cells": {
             "fill": {
              "color": "#EBF0F8"
             },
             "line": {
              "color": "white"
             }
            },
            "header": {
             "fill": {
              "color": "#C8D4E3"
             },
             "line": {
              "color": "white"
             }
            },
            "type": "table"
           }
          ]
         },
         "layout": {
          "annotationdefaults": {
           "arrowcolor": "#2a3f5f",
           "arrowhead": 0,
           "arrowwidth": 1
          },
          "coloraxis": {
           "colorbar": {
            "outlinewidth": 0,
            "ticks": ""
           }
          },
          "colorscale": {
           "diverging": [
            [
             0,
             "#8e0152"
            ],
            [
             0.1,
             "#c51b7d"
            ],
            [
             0.2,
             "#de77ae"
            ],
            [
             0.3,
             "#f1b6da"
            ],
            [
             0.4,
             "#fde0ef"
            ],
            [
             0.5,
             "#f7f7f7"
            ],
            [
             0.6,
             "#e6f5d0"
            ],
            [
             0.7,
             "#b8e186"
            ],
            [
             0.8,
             "#7fbc41"
            ],
            [
             0.9,
             "#4d9221"
            ],
            [
             1,
             "#276419"
            ]
           ],
           "sequential": [
            [
             0,
             "#0d0887"
            ],
            [
             0.1111111111111111,
             "#46039f"
            ],
            [
             0.2222222222222222,
             "#7201a8"
            ],
            [
             0.3333333333333333,
             "#9c179e"
            ],
            [
             0.4444444444444444,
             "#bd3786"
            ],
            [
             0.5555555555555556,
             "#d8576b"
            ],
            [
             0.6666666666666666,
             "#ed7953"
            ],
            [
             0.7777777777777778,
             "#fb9f3a"
            ],
            [
             0.8888888888888888,
             "#fdca26"
            ],
            [
             1,
             "#f0f921"
            ]
           ],
           "sequentialminus": [
            [
             0,
             "#0d0887"
            ],
            [
             0.1111111111111111,
             "#46039f"
            ],
            [
             0.2222222222222222,
             "#7201a8"
            ],
            [
             0.3333333333333333,
             "#9c179e"
            ],
            [
             0.4444444444444444,
             "#bd3786"
            ],
            [
             0.5555555555555556,
             "#d8576b"
            ],
            [
             0.6666666666666666,
             "#ed7953"
            ],
            [
             0.7777777777777778,
             "#fb9f3a"
            ],
            [
             0.8888888888888888,
             "#fdca26"
            ],
            [
             1,
             "#f0f921"
            ]
           ]
          },
          "colorway": [
           "#636efa",
           "#EF553B",
           "#00cc96",
           "#ab63fa",
           "#FFA15A",
           "#19d3f3",
           "#FF6692",
           "#B6E880",
           "#FF97FF",
           "#FECB52"
          ],
          "font": {
           "color": "#2a3f5f"
          },
          "geo": {
           "bgcolor": "white",
           "lakecolor": "white",
           "landcolor": "#E5ECF6",
           "showlakes": true,
           "showland": true,
           "subunitcolor": "white"
          },
          "hoverlabel": {
           "align": "left"
          },
          "hovermode": "closest",
          "mapbox": {
           "style": "light"
          },
          "paper_bgcolor": "white",
          "plot_bgcolor": "#E5ECF6",
          "polar": {
           "angularaxis": {
            "gridcolor": "white",
            "linecolor": "white",
            "ticks": ""
           },
           "bgcolor": "#E5ECF6",
           "radialaxis": {
            "gridcolor": "white",
            "linecolor": "white",
            "ticks": ""
           }
          },
          "scene": {
           "xaxis": {
            "backgroundcolor": "#E5ECF6",
            "gridcolor": "white",
            "gridwidth": 2,
            "linecolor": "white",
            "showbackground": true,
            "ticks": "",
            "zerolinecolor": "white"
           },
           "yaxis": {
            "backgroundcolor": "#E5ECF6",
            "gridcolor": "white",
            "gridwidth": 2,
            "linecolor": "white",
            "showbackground": true,
            "ticks": "",
            "zerolinecolor": "white"
           },
           "zaxis": {
            "backgroundcolor": "#E5ECF6",
            "gridcolor": "white",
            "gridwidth": 2,
            "linecolor": "white",
            "showbackground": true,
            "ticks": "",
            "zerolinecolor": "white"
           }
          },
          "shapedefaults": {
           "line": {
            "color": "#2a3f5f"
           }
          },
          "ternary": {
           "aaxis": {
            "gridcolor": "white",
            "linecolor": "white",
            "ticks": ""
           },
           "baxis": {
            "gridcolor": "white",
            "linecolor": "white",
            "ticks": ""
           },
           "bgcolor": "#E5ECF6",
           "caxis": {
            "gridcolor": "white",
            "linecolor": "white",
            "ticks": ""
           }
          },
          "title": {
           "x": 0.05
          },
          "xaxis": {
           "automargin": true,
           "gridcolor": "white",
           "linecolor": "white",
           "ticks": "",
           "title": {
            "standoff": 15
           },
           "zerolinecolor": "white",
           "zerolinewidth": 2
          },
          "yaxis": {
           "automargin": true,
           "gridcolor": "white",
           "linecolor": "white",
           "ticks": "",
           "title": {
            "standoff": 15
           },
           "zerolinecolor": "white",
           "zerolinewidth": 2
          }
         }
        }
       }
      },
      "text/html": [
       "<div>\n",
       "        \n",
       "        \n",
       "            <div id=\"d6ea4779-2006-414a-9930-2675b8b823e5\" class=\"plotly-graph-div\" style=\"height:525px; width:100%;\"></div>\n",
       "            <script type=\"text/javascript\">\n",
       "                require([\"plotly\"], function(Plotly) {\n",
       "                    window.PLOTLYENV=window.PLOTLYENV || {};\n",
       "                    \n",
       "                if (document.getElementById(\"d6ea4779-2006-414a-9930-2675b8b823e5\")) {\n",
       "                    Plotly.newPlot(\n",
       "                        'd6ea4779-2006-414a-9930-2675b8b823e5',\n",
       "                        [{\"branchvalues\": \"total\", \"labels\": [\"10E\", \"10F\", \"11E\", \"11F\", \"1A\", \"1B\", \"1C\", \"2A\", \"2B\", \"2C\", \"2D\", \"2E\", \"3A\", \"3B\", \"3C\", \"3D\", \"3E\", \"3F\", \"4A\", \"4B\", \"4C\", \"4D\", \"4E\", \"4F\", \"4G\", \"4H\", \"5A\", \"5B\", \"5C\", \"5D\", \"5E\", \"5F\", \"5G\", \"5H\", \"5J\", \"6A\", \"6B\", \"6C\", \"6D\", \"7B\", \"8B\", \"8E\", \"8J\", \"9H\", \"9J\", \"ACA\", \"ACB\", \"AI\", \"AON\", \"CA1-3\", \"CP\", \"DG\", \"LSX\", \"MOB\", \"MOp\", \"MOs\", \"ORB\", \"PAL\", \"PFC\", \"PIR\", \"SSp\", \"SSs\", \"CNU\", \"HPF\", \"Isocortex\", \"OLF\"], \"marker\": {\"colors\": [\"#FF6347\", \"#d62728\", \"#3C1518\", \"#800000\", \"#AFCCEC\", \"#c49c94\", \"#FADF63\", \"#F2CE80\", \"#8EE3F4\", \"#399DE5\", \"#F4E287\", \"#ff7f0e\", \"#9B7260\", \"#6FCAD1\", \"#176CDB\", \"#A6D634\", \"#F2BF4A\", \"#DDD2F4\", \"#8c564b\", \"#2F538E\", \"#6BFFB8\", \"#C87AFD\", \"#FFD2FC\", \"#EFB22C\", \"#A376F4\", \"#9467bd\", \"#5E4035\", \"#2CEAA3\", \"#00FF67\", \"#043D7A\", \"#7B42CD\", \"#e377c2\", \"#C67F08\", \"#C24AF4\", \"#B2196B\", \"#231611\", \"#02C757\", \"#0EB733\", \"#D15B03\", \"#2ca02c\", \"#2A6041\", \"#FCDAA4\", \"#FFAAAA\", \"#DC831E\", \"#EF486F\", \"#8c564b\", \"#FFD2FC\", \"#A6D634\", \"#ff7f0e\", \"#d62728\", \"#7B42CD\", \"#d62728\", \"#B2196B\", \"#ff7f0e\", \"#176CDB\", \"#176CDB\", \"#c49c94\", \"#9467bd\", \"#8c564b\", \"#F2BF4A\", \"#2ca02c\", \"#2ca02c\", \"#7B42CD\", \"#d62728\", \"#176CDB\", \"#ff7f0e\"]}, \"parents\": [\"CA1-3\", \"DG\", \"CA1-3\", \"DG\", \"MOs\", \"ORB\", \"MOB\", \"PFC\", \"MOs\", \"MOp\", \"PIR\", \"AON\", \"PFC\", \"MOs\", \"MOp\", \"AI\", \"PIR\", \"ACB\", \"ACA\", \"MOp\", \"SSp\", \"CP\", \"ACB\", \"PIR\", \"LSX\", \"PAL\", \"ACA\", \"SSp\", \"SSs\", \"MOp\", \"CP\", \"ACB\", \"PIR\", \"PAL\", \"LSX\", \"ACA\", \"SSp\", \"SSs\", \"PIR\", \"SSp\", \"SSp\", \"CA1-3\", \"DG\", \"CA1-3\", \"DG\", \"Isocortex\", \"CNU\", \"Isocortex\", \"OLF\", \"HPF\", \"CNU\", \"HPF\", \"CNU\", \"OLF\", \"Isocortex\", \"Isocortex\", \"Isocortex\", \"CNU\", \"Isocortex\", \"OLF\", \"Isocortex\", \"Isocortex\", \"\", \"\", \"\", \"\"], \"type\": \"sunburst\", \"values\": [1659, 542, 2406, 2451, 2383, 2736, 2370, 2518, 2381, 2148, 2370, 2612, 2590, 2391, 2386, 2345, 2514, 2085, 2418, 2763, 1961, 2511, 1755, 2552, 1945, 2026, 2361, 1984, 2329, 2319, 2579, 2228, 2596, 2606, 1204, 2623, 2570, 2469, 2535, 2095, 2474, 2536, 2287, 2439, 2516, 7402, 6068, 2345, 2612, 9040, 5090, 7796, 3149, 2370, 9616, 7155, 2736, 4632, 5108, 12567, 11084, 4798, 18939, 16836, 50244, 17549]}],\n",
       "                        {\"margin\": {\"b\": 0, \"l\": 0, \"r\": 0, \"t\": 0}, \"template\": {\"data\": {\"bar\": [{\"error_x\": {\"color\": \"#2a3f5f\"}, \"error_y\": {\"color\": \"#2a3f5f\"}, \"marker\": {\"line\": {\"color\": \"#E5ECF6\", \"width\": 0.5}}, \"type\": \"bar\"}], \"barpolar\": [{\"marker\": {\"line\": {\"color\": \"#E5ECF6\", \"width\": 0.5}}, \"type\": \"barpolar\"}], \"carpet\": [{\"aaxis\": {\"endlinecolor\": \"#2a3f5f\", \"gridcolor\": \"white\", \"linecolor\": \"white\", \"minorgridcolor\": \"white\", \"startlinecolor\": \"#2a3f5f\"}, \"baxis\": {\"endlinecolor\": \"#2a3f5f\", \"gridcolor\": \"white\", \"linecolor\": \"white\", \"minorgridcolor\": \"white\", \"startlinecolor\": \"#2a3f5f\"}, \"type\": \"carpet\"}], \"choropleth\": [{\"colorbar\": {\"outlinewidth\": 0, \"ticks\": \"\"}, \"type\": \"choropleth\"}], \"contour\": [{\"colorbar\": {\"outlinewidth\": 0, \"ticks\": \"\"}, \"colorscale\": [[0.0, \"#0d0887\"], [0.1111111111111111, \"#46039f\"], [0.2222222222222222, \"#7201a8\"], [0.3333333333333333, \"#9c179e\"], [0.4444444444444444, \"#bd3786\"], [0.5555555555555556, \"#d8576b\"], [0.6666666666666666, \"#ed7953\"], [0.7777777777777778, \"#fb9f3a\"], [0.8888888888888888, \"#fdca26\"], [1.0, \"#f0f921\"]], \"type\": \"contour\"}], \"contourcarpet\": [{\"colorbar\": {\"outlinewidth\": 0, \"ticks\": \"\"}, \"type\": \"contourcarpet\"}], \"heatmap\": [{\"colorbar\": {\"outlinewidth\": 0, \"ticks\": \"\"}, \"colorscale\": [[0.0, \"#0d0887\"], [0.1111111111111111, \"#46039f\"], [0.2222222222222222, \"#7201a8\"], [0.3333333333333333, \"#9c179e\"], [0.4444444444444444, \"#bd3786\"], [0.5555555555555556, \"#d8576b\"], [0.6666666666666666, \"#ed7953\"], [0.7777777777777778, \"#fb9f3a\"], [0.8888888888888888, \"#fdca26\"], [1.0, \"#f0f921\"]], \"type\": \"heatmap\"}], \"heatmapgl\": [{\"colorbar\": {\"outlinewidth\": 0, \"ticks\": \"\"}, \"colorscale\": [[0.0, \"#0d0887\"], [0.1111111111111111, \"#46039f\"], [0.2222222222222222, \"#7201a8\"], [0.3333333333333333, \"#9c179e\"], [0.4444444444444444, \"#bd3786\"], [0.5555555555555556, \"#d8576b\"], [0.6666666666666666, \"#ed7953\"], [0.7777777777777778, \"#fb9f3a\"], [0.8888888888888888, \"#fdca26\"], [1.0, \"#f0f921\"]], \"type\": \"heatmapgl\"}], \"histogram\": [{\"marker\": {\"colorbar\": {\"outlinewidth\": 0, \"ticks\": \"\"}}, \"type\": \"histogram\"}], \"histogram2d\": [{\"colorbar\": {\"outlinewidth\": 0, \"ticks\": \"\"}, \"colorscale\": [[0.0, \"#0d0887\"], [0.1111111111111111, \"#46039f\"], [0.2222222222222222, \"#7201a8\"], [0.3333333333333333, \"#9c179e\"], [0.4444444444444444, \"#bd3786\"], [0.5555555555555556, \"#d8576b\"], [0.6666666666666666, \"#ed7953\"], [0.7777777777777778, \"#fb9f3a\"], [0.8888888888888888, \"#fdca26\"], [1.0, \"#f0f921\"]], \"type\": \"histogram2d\"}], \"histogram2dcontour\": [{\"colorbar\": {\"outlinewidth\": 0, \"ticks\": \"\"}, \"colorscale\": [[0.0, \"#0d0887\"], [0.1111111111111111, \"#46039f\"], [0.2222222222222222, \"#7201a8\"], [0.3333333333333333, \"#9c179e\"], [0.4444444444444444, \"#bd3786\"], [0.5555555555555556, \"#d8576b\"], [0.6666666666666666, \"#ed7953\"], [0.7777777777777778, \"#fb9f3a\"], [0.8888888888888888, \"#fdca26\"], [1.0, \"#f0f921\"]], \"type\": \"histogram2dcontour\"}], \"mesh3d\": [{\"colorbar\": {\"outlinewidth\": 0, \"ticks\": \"\"}, \"type\": \"mesh3d\"}], \"parcoords\": [{\"line\": {\"colorbar\": {\"outlinewidth\": 0, \"ticks\": \"\"}}, \"type\": \"parcoords\"}], \"pie\": [{\"automargin\": true, \"type\": \"pie\"}], \"scatter\": [{\"marker\": {\"colorbar\": {\"outlinewidth\": 0, \"ticks\": \"\"}}, \"type\": \"scatter\"}], \"scatter3d\": [{\"line\": {\"colorbar\": {\"outlinewidth\": 0, \"ticks\": \"\"}}, \"marker\": {\"colorbar\": {\"outlinewidth\": 0, \"ticks\": \"\"}}, \"type\": \"scatter3d\"}], \"scattercarpet\": [{\"marker\": {\"colorbar\": {\"outlinewidth\": 0, \"ticks\": \"\"}}, \"type\": \"scattercarpet\"}], \"scattergeo\": [{\"marker\": {\"colorbar\": {\"outlinewidth\": 0, \"ticks\": \"\"}}, \"type\": \"scattergeo\"}], \"scattergl\": [{\"marker\": {\"colorbar\": {\"outlinewidth\": 0, \"ticks\": \"\"}}, \"type\": \"scattergl\"}], \"scattermapbox\": [{\"marker\": {\"colorbar\": {\"outlinewidth\": 0, \"ticks\": \"\"}}, \"type\": \"scattermapbox\"}], \"scatterpolar\": [{\"marker\": {\"colorbar\": {\"outlinewidth\": 0, \"ticks\": \"\"}}, \"type\": \"scatterpolar\"}], \"scatterpolargl\": [{\"marker\": {\"colorbar\": {\"outlinewidth\": 0, \"ticks\": \"\"}}, \"type\": \"scatterpolargl\"}], \"scatterternary\": [{\"marker\": {\"colorbar\": {\"outlinewidth\": 0, \"ticks\": \"\"}}, \"type\": \"scatterternary\"}], \"surface\": [{\"colorbar\": {\"outlinewidth\": 0, \"ticks\": \"\"}, \"colorscale\": [[0.0, \"#0d0887\"], [0.1111111111111111, \"#46039f\"], [0.2222222222222222, \"#7201a8\"], [0.3333333333333333, \"#9c179e\"], [0.4444444444444444, \"#bd3786\"], [0.5555555555555556, \"#d8576b\"], [0.6666666666666666, \"#ed7953\"], [0.7777777777777778, \"#fb9f3a\"], [0.8888888888888888, \"#fdca26\"], [1.0, \"#f0f921\"]], \"type\": \"surface\"}], \"table\": [{\"cells\": {\"fill\": {\"color\": \"#EBF0F8\"}, \"line\": {\"color\": \"white\"}}, \"header\": {\"fill\": {\"color\": \"#C8D4E3\"}, \"line\": {\"color\": \"white\"}}, \"type\": \"table\"}]}, \"layout\": {\"annotationdefaults\": {\"arrowcolor\": \"#2a3f5f\", \"arrowhead\": 0, \"arrowwidth\": 1}, \"coloraxis\": {\"colorbar\": {\"outlinewidth\": 0, \"ticks\": \"\"}}, \"colorscale\": {\"diverging\": [[0, \"#8e0152\"], [0.1, \"#c51b7d\"], [0.2, \"#de77ae\"], [0.3, \"#f1b6da\"], [0.4, \"#fde0ef\"], [0.5, \"#f7f7f7\"], [0.6, \"#e6f5d0\"], [0.7, \"#b8e186\"], [0.8, \"#7fbc41\"], [0.9, \"#4d9221\"], [1, \"#276419\"]], \"sequential\": [[0.0, \"#0d0887\"], [0.1111111111111111, \"#46039f\"], [0.2222222222222222, \"#7201a8\"], [0.3333333333333333, \"#9c179e\"], [0.4444444444444444, \"#bd3786\"], [0.5555555555555556, \"#d8576b\"], [0.6666666666666666, \"#ed7953\"], [0.7777777777777778, \"#fb9f3a\"], [0.8888888888888888, \"#fdca26\"], [1.0, \"#f0f921\"]], \"sequentialminus\": [[0.0, \"#0d0887\"], [0.1111111111111111, \"#46039f\"], [0.2222222222222222, \"#7201a8\"], [0.3333333333333333, \"#9c179e\"], [0.4444444444444444, \"#bd3786\"], [0.5555555555555556, \"#d8576b\"], [0.6666666666666666, \"#ed7953\"], [0.7777777777777778, \"#fb9f3a\"], [0.8888888888888888, \"#fdca26\"], [1.0, \"#f0f921\"]]}, \"colorway\": [\"#636efa\", \"#EF553B\", \"#00cc96\", \"#ab63fa\", \"#FFA15A\", \"#19d3f3\", \"#FF6692\", \"#B6E880\", \"#FF97FF\", \"#FECB52\"], \"font\": {\"color\": \"#2a3f5f\"}, \"geo\": {\"bgcolor\": \"white\", \"lakecolor\": \"white\", \"landcolor\": \"#E5ECF6\", \"showlakes\": true, \"showland\": true, \"subunitcolor\": \"white\"}, \"hoverlabel\": {\"align\": \"left\"}, \"hovermode\": \"closest\", \"mapbox\": {\"style\": \"light\"}, \"paper_bgcolor\": \"white\", \"plot_bgcolor\": \"#E5ECF6\", \"polar\": {\"angularaxis\": {\"gridcolor\": \"white\", \"linecolor\": \"white\", \"ticks\": \"\"}, \"bgcolor\": \"#E5ECF6\", \"radialaxis\": {\"gridcolor\": \"white\", \"linecolor\": \"white\", \"ticks\": \"\"}}, \"scene\": {\"xaxis\": {\"backgroundcolor\": \"#E5ECF6\", \"gridcolor\": \"white\", \"gridwidth\": 2, \"linecolor\": \"white\", \"showbackground\": true, \"ticks\": \"\", \"zerolinecolor\": \"white\"}, \"yaxis\": {\"backgroundcolor\": \"#E5ECF6\", \"gridcolor\": \"white\", \"gridwidth\": 2, \"linecolor\": \"white\", \"showbackground\": true, \"ticks\": \"\", \"zerolinecolor\": \"white\"}, \"zaxis\": {\"backgroundcolor\": \"#E5ECF6\", \"gridcolor\": \"white\", \"gridwidth\": 2, \"linecolor\": \"white\", \"showbackground\": true, \"ticks\": \"\", \"zerolinecolor\": \"white\"}}, \"shapedefaults\": {\"line\": {\"color\": \"#2a3f5f\"}}, \"ternary\": {\"aaxis\": {\"gridcolor\": \"white\", \"linecolor\": \"white\", \"ticks\": \"\"}, \"baxis\": {\"gridcolor\": \"white\", \"linecolor\": \"white\", \"ticks\": \"\"}, \"bgcolor\": \"#E5ECF6\", \"caxis\": {\"gridcolor\": \"white\", \"linecolor\": \"white\", \"ticks\": \"\"}}, \"title\": {\"x\": 0.05}, \"xaxis\": {\"automargin\": true, \"gridcolor\": \"white\", \"linecolor\": \"white\", \"ticks\": \"\", \"title\": {\"standoff\": 15}, \"zerolinecolor\": \"white\", \"zerolinewidth\": 2}, \"yaxis\": {\"automargin\": true, \"gridcolor\": \"white\", \"linecolor\": \"white\", \"ticks\": \"\", \"title\": {\"standoff\": 15}, \"zerolinecolor\": \"white\", \"zerolinewidth\": 2}}}},\n",
       "                        {\"responsive\": true}\n",
       "                    ).then(function(){\n",
       "                            \n",
       "var gd = document.getElementById('d6ea4779-2006-414a-9930-2675b8b823e5');\n",
       "var x = new MutationObserver(function (mutations, observer) {{\n",
       "        var display = window.getComputedStyle(gd).display;\n",
       "        if (!display || display === 'none') {{\n",
       "            console.log([gd, 'removed!']);\n",
       "            Plotly.purge(gd);\n",
       "            observer.disconnect();\n",
       "        }}\n",
       "}});\n",
       "\n",
       "// Listen for the removal of the full notebook cells\n",
       "var notebookContainer = gd.closest('#notebook-container');\n",
       "if (notebookContainer) {{\n",
       "    x.observe(notebookContainer, {childList: true});\n",
       "}}\n",
       "\n",
       "// Listen for the clearing of the current output cell\n",
       "var outputEl = gd.closest('.output');\n",
       "if (outputEl) {{\n",
       "    x.observe(outputEl, {childList: true});\n",
       "}}\n",
       "\n",
       "                        })\n",
       "                };\n",
       "                });\n",
       "            </script>\n",
       "        </div>"
      ]
     },
     "metadata": {},
     "output_type": "display_data"
    }
   ],
   "source": [
    "levels = ['MajorRegion', 'SubRegion', 'Region']\n",
    "\n",
    "\n",
    "if 'SubType' in data.columns:\n",
    "    data = data[data['SubType'].apply(lambda i: 'Outlier' not in i)]\n",
    "\n",
    "count_df = data.groupby(levels).apply(lambda i: i.shape[0]).reset_index()\n",
    "count_df.columns= levels + ['Cell Number']\n",
    "\n",
    "total_palette = {}\n",
    "for level in levels:\n",
    "    total_palette.update(palette[level])\n",
    "\n",
    "labels = []\n",
    "parents = []\n",
    "values = []\n",
    "colors = []\n",
    "for level, parent_level in zip(levels[::-1], levels[1::-1] + [None]):\n",
    "    this_level_sum = count_df.groupby(level)['Cell Number'].sum().to_dict()\n",
    "    this_level_sum = {k: v for k, v in this_level_sum.items() if v!=0}\n",
    "    if parent_level is not None:\n",
    "        this_parent_dict = count_df.set_index(level)[parent_level].to_dict()\n",
    "    else:\n",
    "        this_parent_dict = {label: '' for label in count_df[level].unique()}\n",
    "    for label in this_level_sum.keys():\n",
    "        labels.append(label)\n",
    "        parents.append(this_parent_dict[label])\n",
    "        values.append(this_level_sum[label])\n",
    "        try:\n",
    "            colors.append(total_palette[label])\n",
    "        except KeyError:\n",
    "            colors.append('#D3D3D3')\n",
    "            \n",
    "import plotly.graph_objects as go\n",
    "\n",
    "fig =go.Figure(go.Sunburst(\n",
    "    labels=labels,\n",
    "    parents=parents,\n",
    "    values=values,\n",
    "    marker={'colors': colors},\n",
    "    branchvalues=\"total\",\n",
    "))\n",
    "# Update layout for tight margin\n",
    "# See https://plotly.com/python/creating-and-updating-figures/\n",
    "fig.update_layout(margin = dict(t=0, l=0, r=0, b=0))\n",
    "\n",
    "fig.show()"
   ]
  },
  {
   "cell_type": "code",
   "execution_count": 19,
   "metadata": {
    "ExecuteTime": {
     "end_time": "2020-04-19T02:58:29.201409Z",
     "start_time": "2020-04-19T02:58:28.994304Z"
    }
   },
   "outputs": [
    {
     "data": {
      "application/vnd.plotly.v1+json": {
       "config": {
        "plotlyServerURL": "https://plot.ly"
       },
       "data": [
        {
         "branchvalues": "total",
         "labels": [
          "ANP anp-dg",
          "ANP anp-olf-cnu",
          "ASC cortex-olf",
          "ASC mid",
          "ASC str-hpf",
          "CA1 Ak5",
          "CA1 Chrm3",
          "CA1 Kif26a",
          "CA1 Lingo2",
          "CA1 Ptprg",
          "CA3 Cadm2",
          "CA3 Efnb2",
          "CA3-St18 Epha5",
          "CA3-St18 Nuak1",
          "CA3-St18 Tead1",
          "CGE-Lamp5 Dock5",
          "CGE-Lamp5 Grid1",
          "CGE-Lamp5 Grk5",
          "CGE-Lamp5 Nrxn3",
          "CGE-Lamp5 Sorcs1",
          "CGE-Vip Ccser1",
          "CGE-Vip Clstn2",
          "CGE-Vip Fstl4",
          "CGE-Vip Galnt17",
          "CGE-Vip Grm8",
          "CGE-Vip Ntng1",
          "CGE-Vip Ptprm",
          "CGE-Vip Robo1",
          "CLA Bcl11a",
          "CLA Cdh8",
          "CLA Nrp2",
          "CT-L6 Hcrtr2",
          "CT-L6 Il1rap",
          "CT-L6 Map4",
          "CT-L6 Megf9",
          "Chd7 Kcnc2",
          "Chd7 Megf11",
          "Chd7 Trpc7",
          "D1L-Fstl4 Cadm1",
          "D1L-Fstl4 Crim1",
          "D1L-Fstl4 Grm3",
          "D1L-Fstl4 Sipa1l2",
          "D1L-Fstl4 Trps1",
          "D1L-PAL Flrt2",
          "D1L-PAL Plcxd3",
          "DG dg-all",
          "DG-po Bcl11a",
          "DG-po Calb2",
          "DG-po Kctd8",
          "EC Abhd2",
          "EC Sema3g",
          "EP Adcy8",
          "EP Rgs8",
          "EP Tspan5",
          "Foxp2 Dchs2",
          "Foxp2 Homer2",
          "Foxp2 Inpp4b",
          "Foxp2 Trpc7",
          "Gfra1 Gfra1",
          "IG-CA2 Chrm3",
          "IG-CA2 Peak1",
          "IG-CA2 Xpr1",
          "IT-L23 Cux1",
          "IT-L23 Foxp1",
          "IT-L23 Ptprt",
          "IT-L23 Tenm2",
          "IT-L4 Astn2",
          "IT-L4 Shc3",
          "IT-L5 Cdh8",
          "IT-L5 Etv1",
          "IT-L5 Grik3",
          "IT-L6 Cadps2",
          "IT-L6 Fstl4",
          "IT-L6 Man1c1",
          "IT-L6 Oxr1",
          "L6b Adcy8",
          "L6b Kcnk2",
          "L6b Nrp2",
          "L6b Pkhd1",
          "LSX-Inh Cacna1i",
          "LSX-Inh Dock10",
          "LSX-Inh Enox1",
          "LSX-Inh Foxp2",
          "LSX-Inh Lats2",
          "LSX-Inh Nxph1",
          "LSX-Inh Zeb2",
          "MGC mgc-all",
          "MGE-Pvalb Cacna1i",
          "MGE-Pvalb Cnih3",
          "MGE-Pvalb Entpd3",
          "MGE-Pvalb Gfra2",
          "MGE-Pvalb Ptprk",
          "MGE-Pvalb Sema5a",
          "MGE-Pvalb Thsd7a",
          "MGE-Sst Bmper",
          "MGE-Sst Chodl",
          "MGE-Sst Dock4",
          "MGE-Sst Etv1",
          "MGE-Sst Frmd6",
          "MGE-Sst Kcnip4",
          "MGE-Sst Ptpre",
          "MGE-Sst Rerg",
          "MGE-Sst Rxra",
          "MGE-Sst Ubtd1",
          "MGE-Sst Unc5b",
          "MSN-D1 Hrh1",
          "MSN-D1 Khdrbs3",
          "MSN-D1 Ntn1",
          "MSN-D1 Plxnc1",
          "MSN-D2 Casz1",
          "MSN-D2 Col14a1",
          "MSN-D2 Nrp2",
          "MSN-D2 Slc24a2",
          "NP-L6 Boc",
          "NP-L6 Cntnap4",
          "NP-L6 Cntnap5a",
          "NP-L6 Cyp7b1",
          "NP-L6 Kcnab1",
          "NP-L6 Olfml2b",
          "ODC odc-large",
          "ODC odc-small",
          "OLF Gabbr2",
          "OLF Kcnd3",
          "OLF Mapk10",
          "OLF Pag1",
          "OLF Trpc4",
          "OLF Xkr6",
          "OLF-Exc Bmpr1b",
          "OLF-Exc Cdh9",
          "OLF-Exc Cux2",
          "OLF-Exc Lrrtm3",
          "OLF-Exc Pld5",
          "OLF-Exc Rmst",
          "OLF-Exc Sgcd",
          "OLF-Exc Unc13c",
          "OPC opc-large",
          "OPC opc-small",
          "PAL-Inh Chat",
          "PAL-Inh Deptor",
          "PAL-Inh Igdcc3",
          "PAL-Inh Meis1",
          "PAL-Inh Meis2",
          "PAL-Inh Onecut2",
          "PAL-Inh Ptprd",
          "PAL-Inh Rarb",
          "PAL-Inh Tcf7l2",
          "PAL-Inh Tmem178",
          "PC pc-all",
          "PT-L5 Abca12",
          "PT-L5 Astn2",
          "PT-L5 Kcnh1",
          "PT-L5 Nectin1",
          "PT-L5 Plcb4",
          "PT-L5 Ptprt",
          "PT-L5 Tenm2",
          "PT-L5 Tmtc2",
          "PT-L5 Unc5b",
          "Unc5c Unc5c",
          "VLMC Col4a1",
          "VLMC Mapk4",
          "VLMC-Pia vlmc-pia-all",
          "ANP",
          "ASC",
          "CA1",
          "CA3",
          "CA3-St18",
          "CGE-Lamp5",
          "CGE-Vip",
          "CLA",
          "CT-L6",
          "Chd7",
          "D1L-Fstl4",
          "D1L-PAL",
          "DG",
          "DG-po",
          "EC",
          "EP",
          "Foxp2",
          "Gfra1",
          "IG-CA2",
          "IT-L23",
          "IT-L4",
          "IT-L5",
          "IT-L6",
          "L6b",
          "LSX-Inh",
          "MGC",
          "MGE-Pvalb",
          "MGE-Sst",
          "MSN-D1",
          "MSN-D2",
          "NP-L6",
          "ODC",
          "OLF",
          "OLF-Exc",
          "OPC",
          "PAL-Inh",
          "PC",
          "PT-L5",
          "Unc5c",
          "VLMC",
          "VLMC-Pia",
          "Exc",
          "Inh",
          "NonN"
         ],
         "marker": {
          "colors": [
           "#8235E4",
           "#A452FF",
           "#F4BD64",
           "#DE9F00",
           "#867354",
           "#020095",
           "#C79BFF",
           "#001B89",
           "#2B0E6D",
           "#583AE4",
           "#0049DD",
           "#0143CA",
           "#B6A3FF",
           "#7668FF",
           "#8F7DFF",
           "#FF9BB3",
           "#FF4D83",
           "#8E003B",
           "#F9B4BA",
           "#E90060",
           "#FF57AD",
           "#FD009D",
           "#E00173",
           "#78003F",
           "#8F0058",
           "#4E0430",
           "#FF87AC",
           "#C00072",
           "#027BB8",
           "#84BBFF",
           "#008FE3",
           "#00C594",
           "#00513A",
           "#2DE194",
           "#007A53",
           "#FF8288",
           "#BC8B8B",
           "#EE0051",
           "#E4BFA2",
           "#FFAC4F",
           "#BE9F83",
           "#C06A00",
           "#724200",
           "#C17600",
           "#B37500",
           "#D896FF",
           "#013196",
           "#8389FF",
           "#C1C1F7",
           "#D7C93C",
           "#515000",
           "#02C0FE",
           "#0099CC",
           "#006B99",
           "#FF9D7A",
           "#FF6B36",
           "#FF8956",
           "#5E1800",
           "#00489A",
           "#002D74",
           "#0053CA",
           "#9DB0FF",
           "#C8CA86",
           "#94B400",
           "#475400",
           "#212900",
           "#A8D617",
           "#B3D164",
           "#203900",
           "#A6D648",
           "#435F00",
           "#167600",
           "#42A100",
           "#3BB800",
           "#6DC600",
           "#019AB4",
           "#28D8FB",
           "#55D4FF",
           "#007C8D",
           "#FF425A",
           "#451714",
           "#E00037",
           "#5B0010",
           "#770010",
           "#FF7371",
           "#EB0031",
           "#DEC481",
           "#FF7BF5",
           "#CE1BDA",
           "#EE75FF",
           "#750076",
           "#FF43F0",
           "#F264FF",
           "#5B3D56",
           "#FAAFE5",
           "#E3009C",
           "#3C1A33",
           "#4F0041",
           "#FF8FDF",
           "#DB00C2",
           "#FF82C0",
           "#C900AA",
           "#9E007A",
           "#710060",
           "#FF6EBE",
           "#4B2000",
           "#FF812C",
           "#AD3A00",
           "#C65400",
           "#FCB78F",
           "#6B2E00",
           "#E67900",
           "#A15200",
           "#00C9C4",
           "#8CD5B9",
           "#009885",
           "#006056",
           "#01D3B1",
           "#5DD7E4",
           "#4F3900",
           "#D3A474",
           "#7A00BD",
           "#A000C7",
           "#E0B4FF",
           "#3E00AE",
           "#670092",
           "#331751",
           "#00365C",
           "#0183E9",
           "#0163AF",
           "#A6B2D7",
           "#014779",
           "#152645",
           "#5CA4FF",
           "#0177E8",
           "#836300",
           "#EEC000",
           "#FC0028",
           "#BE001E",
           "#93000C",
           "#811D00",
           "#E93400",
           "#FF8C6A",
           "#B20002",
           "#FFA191",
           "#FF614C",
           "#BE2700",
           "#917E00",
           "#00B734",
           "#00B958",
           "#007026",
           "#003216",
           "#00D765",
           "#94D781",
           "#6FDE54",
           "#005025",
           "#00DD4B",
           "#A5003A",
           "#BCBD00",
           "#3E3F00",
           "#9FA600",
           "#D646B8",
           "#DE9F00",
           "#5E2C96",
           "#0049DD",
           "#AE97CE",
           "#67292F",
           "#E13F82",
           "#47688F",
           "#3F884E",
           "#E0451E",
           "#D56B3C",
           "#E48C2E",
           "#C378CA",
           "#613ACE",
           "#78772B",
           "#68AAD7",
           "#A3355F",
           "#0177E8",
           "#413873",
           "#6BC22E",
           "#A8D617",
           "#4A8827",
           "#314B1F",
           "#28D8FB",
           "#D89082",
           "#AAB639",
           "#E179A2",
           "#764A71",
           "#D76765",
           "#98634F",
           "#63BC9E",
           "#CEA675",
           "#812970",
           "#5F83D4",
           "#A87331",
           "#DE3649",
           "#9BB070",
           "#4AC750",
           "#972B25",
           "#5E461E",
           "#9FA600",
           "#5EC5A9",
           "#E93400",
           "#E06931"
          ]
         },
         "parents": [
          "ANP",
          "ANP",
          "ASC",
          "ASC",
          "ASC",
          "CA1",
          "CA1",
          "CA1",
          "CA1",
          "CA1",
          "CA3",
          "CA3",
          "CA3-St18",
          "CA3-St18",
          "CA3-St18",
          "CGE-Lamp5",
          "CGE-Lamp5",
          "CGE-Lamp5",
          "CGE-Lamp5",
          "CGE-Lamp5",
          "CGE-Vip",
          "CGE-Vip",
          "CGE-Vip",
          "CGE-Vip",
          "CGE-Vip",
          "CGE-Vip",
          "CGE-Vip",
          "CGE-Vip",
          "CLA",
          "CLA",
          "CLA",
          "CT-L6",
          "CT-L6",
          "CT-L6",
          "CT-L6",
          "Chd7",
          "Chd7",
          "Chd7",
          "D1L-Fstl4",
          "D1L-Fstl4",
          "D1L-Fstl4",
          "D1L-Fstl4",
          "D1L-Fstl4",
          "D1L-PAL",
          "D1L-PAL",
          "DG",
          "DG-po",
          "DG-po",
          "DG-po",
          "EC",
          "EC",
          "EP",
          "EP",
          "EP",
          "Foxp2",
          "Foxp2",
          "Foxp2",
          "Foxp2",
          "Gfra1",
          "IG-CA2",
          "IG-CA2",
          "IG-CA2",
          "IT-L23",
          "IT-L23",
          "IT-L23",
          "IT-L23",
          "IT-L4",
          "IT-L4",
          "IT-L5",
          "IT-L5",
          "IT-L5",
          "IT-L6",
          "IT-L6",
          "IT-L6",
          "IT-L6",
          "L6b",
          "L6b",
          "L6b",
          "L6b",
          "LSX-Inh",
          "LSX-Inh",
          "LSX-Inh",
          "LSX-Inh",
          "LSX-Inh",
          "LSX-Inh",
          "LSX-Inh",
          "MGC",
          "MGE-Pvalb",
          "MGE-Pvalb",
          "MGE-Pvalb",
          "MGE-Pvalb",
          "MGE-Pvalb",
          "MGE-Pvalb",
          "MGE-Pvalb",
          "MGE-Sst",
          "MGE-Sst",
          "MGE-Sst",
          "MGE-Sst",
          "MGE-Sst",
          "MGE-Sst",
          "MGE-Sst",
          "MGE-Sst",
          "MGE-Sst",
          "MGE-Sst",
          "MGE-Sst",
          "MSN-D1",
          "MSN-D1",
          "MSN-D1",
          "MSN-D1",
          "MSN-D2",
          "MSN-D2",
          "MSN-D2",
          "MSN-D2",
          "NP-L6",
          "NP-L6",
          "NP-L6",
          "NP-L6",
          "NP-L6",
          "NP-L6",
          "ODC",
          "ODC",
          "OLF",
          "OLF",
          "OLF",
          "OLF",
          "OLF",
          "OLF",
          "OLF-Exc",
          "OLF-Exc",
          "OLF-Exc",
          "OLF-Exc",
          "OLF-Exc",
          "OLF-Exc",
          "OLF-Exc",
          "OLF-Exc",
          "OPC",
          "OPC",
          "PAL-Inh",
          "PAL-Inh",
          "PAL-Inh",
          "PAL-Inh",
          "PAL-Inh",
          "PAL-Inh",
          "PAL-Inh",
          "PAL-Inh",
          "PAL-Inh",
          "PAL-Inh",
          "PC",
          "PT-L5",
          "PT-L5",
          "PT-L5",
          "PT-L5",
          "PT-L5",
          "PT-L5",
          "PT-L5",
          "PT-L5",
          "PT-L5",
          "Unc5c",
          "VLMC",
          "VLMC",
          "VLMC-Pia",
          "NonN",
          "NonN",
          "Exc",
          "Exc",
          "Exc",
          "Inh",
          "Inh",
          "Exc",
          "Exc",
          "Inh",
          "Inh",
          "Inh",
          "Exc",
          "Exc",
          "NonN",
          "Exc",
          "Inh",
          "Exc",
          "Exc",
          "Exc",
          "Exc",
          "Exc",
          "Exc",
          "Exc",
          "Inh",
          "NonN",
          "Inh",
          "Inh",
          "Inh",
          "Inh",
          "Exc",
          "NonN",
          "Inh",
          "Exc",
          "NonN",
          "Inh",
          "NonN",
          "Exc",
          "Inh",
          "NonN",
          "NonN",
          "",
          "",
          ""
         ],
         "type": "sunburst",
         "values": [
          121,
          210,
          406,
          734,
          1075,
          419,
          2765,
          133,
          54,
          568,
          2284,
          139,
          107,
          81,
          220,
          243,
          237,
          732,
          83,
          154,
          180,
          181,
          234,
          379,
          103,
          65,
          421,
          183,
          118,
          505,
          322,
          664,
          4361,
          869,
          2822,
          79,
          153,
          154,
          197,
          386,
          416,
          660,
          303,
          246,
          249,
          6179,
          55,
          51,
          39,
          83,
          12,
          144,
          224,
          298,
          704,
          312,
          431,
          517,
          110,
          369,
          224,
          152,
          6551,
          1528,
          1503,
          2337,
          2742,
          1605,
          2535,
          2216,
          1889,
          865,
          1197,
          2676,
          209,
          398,
          177,
          457,
          37,
          333,
          440,
          296,
          272,
          95,
          432,
          275,
          853,
          236,
          423,
          355,
          472,
          84,
          415,
          648,
          282,
          94,
          374,
          80,
          695,
          230,
          152,
          281,
          224,
          387,
          128,
          1349,
          541,
          322,
          926,
          242,
          598,
          431,
          2069,
          294,
          146,
          367,
          193,
          446,
          373,
          2216,
          866,
          86,
          99,
          60,
          60,
          1017,
          46,
          3017,
          730,
          394,
          1681,
          137,
          359,
          2395,
          957,
          688,
          89,
          197,
          84,
          407,
          246,
          1969,
          187,
          365,
          242,
          185,
          425,
          170,
          144,
          125,
          406,
          271,
          266,
          385,
          631,
          204,
          205,
          219,
          175,
          244,
          225,
          331,
          2215,
          3939,
          2423,
          408,
          1449,
          1746,
          945,
          8716,
          386,
          1962,
          495,
          6179,
          145,
          95,
          666,
          1964,
          110,
          745,
          11919,
          4347,
          6640,
          4947,
          1069,
          2143,
          853,
          2633,
          2927,
          3138,
          3340,
          1819,
          3082,
          1368,
          9670,
          777,
          4307,
          170,
          2637,
          219,
          419,
          225,
          67324,
          28077,
          8167
         ]
        }
       ],
       "layout": {
        "margin": {
         "b": 0,
         "l": 0,
         "r": 0,
         "t": 0
        },
        "template": {
         "data": {
          "bar": [
           {
            "error_x": {
             "color": "#2a3f5f"
            },
            "error_y": {
             "color": "#2a3f5f"
            },
            "marker": {
             "line": {
              "color": "#E5ECF6",
              "width": 0.5
             }
            },
            "type": "bar"
           }
          ],
          "barpolar": [
           {
            "marker": {
             "line": {
              "color": "#E5ECF6",
              "width": 0.5
             }
            },
            "type": "barpolar"
           }
          ],
          "carpet": [
           {
            "aaxis": {
             "endlinecolor": "#2a3f5f",
             "gridcolor": "white",
             "linecolor": "white",
             "minorgridcolor": "white",
             "startlinecolor": "#2a3f5f"
            },
            "baxis": {
             "endlinecolor": "#2a3f5f",
             "gridcolor": "white",
             "linecolor": "white",
             "minorgridcolor": "white",
             "startlinecolor": "#2a3f5f"
            },
            "type": "carpet"
           }
          ],
          "choropleth": [
           {
            "colorbar": {
             "outlinewidth": 0,
             "ticks": ""
            },
            "type": "choropleth"
           }
          ],
          "contour": [
           {
            "colorbar": {
             "outlinewidth": 0,
             "ticks": ""
            },
            "colorscale": [
             [
              0,
              "#0d0887"
             ],
             [
              0.1111111111111111,
              "#46039f"
             ],
             [
              0.2222222222222222,
              "#7201a8"
             ],
             [
              0.3333333333333333,
              "#9c179e"
             ],
             [
              0.4444444444444444,
              "#bd3786"
             ],
             [
              0.5555555555555556,
              "#d8576b"
             ],
             [
              0.6666666666666666,
              "#ed7953"
             ],
             [
              0.7777777777777778,
              "#fb9f3a"
             ],
             [
              0.8888888888888888,
              "#fdca26"
             ],
             [
              1,
              "#f0f921"
             ]
            ],
            "type": "contour"
           }
          ],
          "contourcarpet": [
           {
            "colorbar": {
             "outlinewidth": 0,
             "ticks": ""
            },
            "type": "contourcarpet"
           }
          ],
          "heatmap": [
           {
            "colorbar": {
             "outlinewidth": 0,
             "ticks": ""
            },
            "colorscale": [
             [
              0,
              "#0d0887"
             ],
             [
              0.1111111111111111,
              "#46039f"
             ],
             [
              0.2222222222222222,
              "#7201a8"
             ],
             [
              0.3333333333333333,
              "#9c179e"
             ],
             [
              0.4444444444444444,
              "#bd3786"
             ],
             [
              0.5555555555555556,
              "#d8576b"
             ],
             [
              0.6666666666666666,
              "#ed7953"
             ],
             [
              0.7777777777777778,
              "#fb9f3a"
             ],
             [
              0.8888888888888888,
              "#fdca26"
             ],
             [
              1,
              "#f0f921"
             ]
            ],
            "type": "heatmap"
           }
          ],
          "heatmapgl": [
           {
            "colorbar": {
             "outlinewidth": 0,
             "ticks": ""
            },
            "colorscale": [
             [
              0,
              "#0d0887"
             ],
             [
              0.1111111111111111,
              "#46039f"
             ],
             [
              0.2222222222222222,
              "#7201a8"
             ],
             [
              0.3333333333333333,
              "#9c179e"
             ],
             [
              0.4444444444444444,
              "#bd3786"
             ],
             [
              0.5555555555555556,
              "#d8576b"
             ],
             [
              0.6666666666666666,
              "#ed7953"
             ],
             [
              0.7777777777777778,
              "#fb9f3a"
             ],
             [
              0.8888888888888888,
              "#fdca26"
             ],
             [
              1,
              "#f0f921"
             ]
            ],
            "type": "heatmapgl"
           }
          ],
          "histogram": [
           {
            "marker": {
             "colorbar": {
              "outlinewidth": 0,
              "ticks": ""
             }
            },
            "type": "histogram"
           }
          ],
          "histogram2d": [
           {
            "colorbar": {
             "outlinewidth": 0,
             "ticks": ""
            },
            "colorscale": [
             [
              0,
              "#0d0887"
             ],
             [
              0.1111111111111111,
              "#46039f"
             ],
             [
              0.2222222222222222,
              "#7201a8"
             ],
             [
              0.3333333333333333,
              "#9c179e"
             ],
             [
              0.4444444444444444,
              "#bd3786"
             ],
             [
              0.5555555555555556,
              "#d8576b"
             ],
             [
              0.6666666666666666,
              "#ed7953"
             ],
             [
              0.7777777777777778,
              "#fb9f3a"
             ],
             [
              0.8888888888888888,
              "#fdca26"
             ],
             [
              1,
              "#f0f921"
             ]
            ],
            "type": "histogram2d"
           }
          ],
          "histogram2dcontour": [
           {
            "colorbar": {
             "outlinewidth": 0,
             "ticks": ""
            },
            "colorscale": [
             [
              0,
              "#0d0887"
             ],
             [
              0.1111111111111111,
              "#46039f"
             ],
             [
              0.2222222222222222,
              "#7201a8"
             ],
             [
              0.3333333333333333,
              "#9c179e"
             ],
             [
              0.4444444444444444,
              "#bd3786"
             ],
             [
              0.5555555555555556,
              "#d8576b"
             ],
             [
              0.6666666666666666,
              "#ed7953"
             ],
             [
              0.7777777777777778,
              "#fb9f3a"
             ],
             [
              0.8888888888888888,
              "#fdca26"
             ],
             [
              1,
              "#f0f921"
             ]
            ],
            "type": "histogram2dcontour"
           }
          ],
          "mesh3d": [
           {
            "colorbar": {
             "outlinewidth": 0,
             "ticks": ""
            },
            "type": "mesh3d"
           }
          ],
          "parcoords": [
           {
            "line": {
             "colorbar": {
              "outlinewidth": 0,
              "ticks": ""
             }
            },
            "type": "parcoords"
           }
          ],
          "pie": [
           {
            "automargin": true,
            "type": "pie"
           }
          ],
          "scatter": [
           {
            "marker": {
             "colorbar": {
              "outlinewidth": 0,
              "ticks": ""
             }
            },
            "type": "scatter"
           }
          ],
          "scatter3d": [
           {
            "line": {
             "colorbar": {
              "outlinewidth": 0,
              "ticks": ""
             }
            },
            "marker": {
             "colorbar": {
              "outlinewidth": 0,
              "ticks": ""
             }
            },
            "type": "scatter3d"
           }
          ],
          "scattercarpet": [
           {
            "marker": {
             "colorbar": {
              "outlinewidth": 0,
              "ticks": ""
             }
            },
            "type": "scattercarpet"
           }
          ],
          "scattergeo": [
           {
            "marker": {
             "colorbar": {
              "outlinewidth": 0,
              "ticks": ""
             }
            },
            "type": "scattergeo"
           }
          ],
          "scattergl": [
           {
            "marker": {
             "colorbar": {
              "outlinewidth": 0,
              "ticks": ""
             }
            },
            "type": "scattergl"
           }
          ],
          "scattermapbox": [
           {
            "marker": {
             "colorbar": {
              "outlinewidth": 0,
              "ticks": ""
             }
            },
            "type": "scattermapbox"
           }
          ],
          "scatterpolar": [
           {
            "marker": {
             "colorbar": {
              "outlinewidth": 0,
              "ticks": ""
             }
            },
            "type": "scatterpolar"
           }
          ],
          "scatterpolargl": [
           {
            "marker": {
             "colorbar": {
              "outlinewidth": 0,
              "ticks": ""
             }
            },
            "type": "scatterpolargl"
           }
          ],
          "scatterternary": [
           {
            "marker": {
             "colorbar": {
              "outlinewidth": 0,
              "ticks": ""
             }
            },
            "type": "scatterternary"
           }
          ],
          "surface": [
           {
            "colorbar": {
             "outlinewidth": 0,
             "ticks": ""
            },
            "colorscale": [
             [
              0,
              "#0d0887"
             ],
             [
              0.1111111111111111,
              "#46039f"
             ],
             [
              0.2222222222222222,
              "#7201a8"
             ],
             [
              0.3333333333333333,
              "#9c179e"
             ],
             [
              0.4444444444444444,
              "#bd3786"
             ],
             [
              0.5555555555555556,
              "#d8576b"
             ],
             [
              0.6666666666666666,
              "#ed7953"
             ],
             [
              0.7777777777777778,
              "#fb9f3a"
             ],
             [
              0.8888888888888888,
              "#fdca26"
             ],
             [
              1,
              "#f0f921"
             ]
            ],
            "type": "surface"
           }
          ],
          "table": [
           {
            "cells": {
             "fill": {
              "color": "#EBF0F8"
             },
             "line": {
              "color": "white"
             }
            },
            "header": {
             "fill": {
              "color": "#C8D4E3"
             },
             "line": {
              "color": "white"
             }
            },
            "type": "table"
           }
          ]
         },
         "layout": {
          "annotationdefaults": {
           "arrowcolor": "#2a3f5f",
           "arrowhead": 0,
           "arrowwidth": 1
          },
          "coloraxis": {
           "colorbar": {
            "outlinewidth": 0,
            "ticks": ""
           }
          },
          "colorscale": {
           "diverging": [
            [
             0,
             "#8e0152"
            ],
            [
             0.1,
             "#c51b7d"
            ],
            [
             0.2,
             "#de77ae"
            ],
            [
             0.3,
             "#f1b6da"
            ],
            [
             0.4,
             "#fde0ef"
            ],
            [
             0.5,
             "#f7f7f7"
            ],
            [
             0.6,
             "#e6f5d0"
            ],
            [
             0.7,
             "#b8e186"
            ],
            [
             0.8,
             "#7fbc41"
            ],
            [
             0.9,
             "#4d9221"
            ],
            [
             1,
             "#276419"
            ]
           ],
           "sequential": [
            [
             0,
             "#0d0887"
            ],
            [
             0.1111111111111111,
             "#46039f"
            ],
            [
             0.2222222222222222,
             "#7201a8"
            ],
            [
             0.3333333333333333,
             "#9c179e"
            ],
            [
             0.4444444444444444,
             "#bd3786"
            ],
            [
             0.5555555555555556,
             "#d8576b"
            ],
            [
             0.6666666666666666,
             "#ed7953"
            ],
            [
             0.7777777777777778,
             "#fb9f3a"
            ],
            [
             0.8888888888888888,
             "#fdca26"
            ],
            [
             1,
             "#f0f921"
            ]
           ],
           "sequentialminus": [
            [
             0,
             "#0d0887"
            ],
            [
             0.1111111111111111,
             "#46039f"
            ],
            [
             0.2222222222222222,
             "#7201a8"
            ],
            [
             0.3333333333333333,
             "#9c179e"
            ],
            [
             0.4444444444444444,
             "#bd3786"
            ],
            [
             0.5555555555555556,
             "#d8576b"
            ],
            [
             0.6666666666666666,
             "#ed7953"
            ],
            [
             0.7777777777777778,
             "#fb9f3a"
            ],
            [
             0.8888888888888888,
             "#fdca26"
            ],
            [
             1,
             "#f0f921"
            ]
           ]
          },
          "colorway": [
           "#636efa",
           "#EF553B",
           "#00cc96",
           "#ab63fa",
           "#FFA15A",
           "#19d3f3",
           "#FF6692",
           "#B6E880",
           "#FF97FF",
           "#FECB52"
          ],
          "font": {
           "color": "#2a3f5f"
          },
          "geo": {
           "bgcolor": "white",
           "lakecolor": "white",
           "landcolor": "#E5ECF6",
           "showlakes": true,
           "showland": true,
           "subunitcolor": "white"
          },
          "hoverlabel": {
           "align": "left"
          },
          "hovermode": "closest",
          "mapbox": {
           "style": "light"
          },
          "paper_bgcolor": "white",
          "plot_bgcolor": "#E5ECF6",
          "polar": {
           "angularaxis": {
            "gridcolor": "white",
            "linecolor": "white",
            "ticks": ""
           },
           "bgcolor": "#E5ECF6",
           "radialaxis": {
            "gridcolor": "white",
            "linecolor": "white",
            "ticks": ""
           }
          },
          "scene": {
           "xaxis": {
            "backgroundcolor": "#E5ECF6",
            "gridcolor": "white",
            "gridwidth": 2,
            "linecolor": "white",
            "showbackground": true,
            "ticks": "",
            "zerolinecolor": "white"
           },
           "yaxis": {
            "backgroundcolor": "#E5ECF6",
            "gridcolor": "white",
            "gridwidth": 2,
            "linecolor": "white",
            "showbackground": true,
            "ticks": "",
            "zerolinecolor": "white"
           },
           "zaxis": {
            "backgroundcolor": "#E5ECF6",
            "gridcolor": "white",
            "gridwidth": 2,
            "linecolor": "white",
            "showbackground": true,
            "ticks": "",
            "zerolinecolor": "white"
           }
          },
          "shapedefaults": {
           "line": {
            "color": "#2a3f5f"
           }
          },
          "ternary": {
           "aaxis": {
            "gridcolor": "white",
            "linecolor": "white",
            "ticks": ""
           },
           "baxis": {
            "gridcolor": "white",
            "linecolor": "white",
            "ticks": ""
           },
           "bgcolor": "#E5ECF6",
           "caxis": {
            "gridcolor": "white",
            "linecolor": "white",
            "ticks": ""
           }
          },
          "title": {
           "x": 0.05
          },
          "xaxis": {
           "automargin": true,
           "gridcolor": "white",
           "linecolor": "white",
           "ticks": "",
           "title": {
            "standoff": 15
           },
           "zerolinecolor": "white",
           "zerolinewidth": 2
          },
          "yaxis": {
           "automargin": true,
           "gridcolor": "white",
           "linecolor": "white",
           "ticks": "",
           "title": {
            "standoff": 15
           },
           "zerolinecolor": "white",
           "zerolinewidth": 2
          }
         }
        }
       }
      },
      "text/html": [
       "<div>\n",
       "        \n",
       "        \n",
       "            <div id=\"f4d9ab08-1664-4429-9bc9-247c7c63bc98\" class=\"plotly-graph-div\" style=\"height:525px; width:100%;\"></div>\n",
       "            <script type=\"text/javascript\">\n",
       "                require([\"plotly\"], function(Plotly) {\n",
       "                    window.PLOTLYENV=window.PLOTLYENV || {};\n",
       "                    \n",
       "                if (document.getElementById(\"f4d9ab08-1664-4429-9bc9-247c7c63bc98\")) {\n",
       "                    Plotly.newPlot(\n",
       "                        'f4d9ab08-1664-4429-9bc9-247c7c63bc98',\n",
       "                        [{\"branchvalues\": \"total\", \"labels\": [\"ANP anp-dg\", \"ANP anp-olf-cnu\", \"ASC cortex-olf\", \"ASC mid\", \"ASC str-hpf\", \"CA1 Ak5\", \"CA1 Chrm3\", \"CA1 Kif26a\", \"CA1 Lingo2\", \"CA1 Ptprg\", \"CA3 Cadm2\", \"CA3 Efnb2\", \"CA3-St18 Epha5\", \"CA3-St18 Nuak1\", \"CA3-St18 Tead1\", \"CGE-Lamp5 Dock5\", \"CGE-Lamp5 Grid1\", \"CGE-Lamp5 Grk5\", \"CGE-Lamp5 Nrxn3\", \"CGE-Lamp5 Sorcs1\", \"CGE-Vip Ccser1\", \"CGE-Vip Clstn2\", \"CGE-Vip Fstl4\", \"CGE-Vip Galnt17\", \"CGE-Vip Grm8\", \"CGE-Vip Ntng1\", \"CGE-Vip Ptprm\", \"CGE-Vip Robo1\", \"CLA Bcl11a\", \"CLA Cdh8\", \"CLA Nrp2\", \"CT-L6 Hcrtr2\", \"CT-L6 Il1rap\", \"CT-L6 Map4\", \"CT-L6 Megf9\", \"Chd7 Kcnc2\", \"Chd7 Megf11\", \"Chd7 Trpc7\", \"D1L-Fstl4 Cadm1\", \"D1L-Fstl4 Crim1\", \"D1L-Fstl4 Grm3\", \"D1L-Fstl4 Sipa1l2\", \"D1L-Fstl4 Trps1\", \"D1L-PAL Flrt2\", \"D1L-PAL Plcxd3\", \"DG dg-all\", \"DG-po Bcl11a\", \"DG-po Calb2\", \"DG-po Kctd8\", \"EC Abhd2\", \"EC Sema3g\", \"EP Adcy8\", \"EP Rgs8\", \"EP Tspan5\", \"Foxp2 Dchs2\", \"Foxp2 Homer2\", \"Foxp2 Inpp4b\", \"Foxp2 Trpc7\", \"Gfra1 Gfra1\", \"IG-CA2 Chrm3\", \"IG-CA2 Peak1\", \"IG-CA2 Xpr1\", \"IT-L23 Cux1\", \"IT-L23 Foxp1\", \"IT-L23 Ptprt\", \"IT-L23 Tenm2\", \"IT-L4 Astn2\", \"IT-L4 Shc3\", \"IT-L5 Cdh8\", \"IT-L5 Etv1\", \"IT-L5 Grik3\", \"IT-L6 Cadps2\", \"IT-L6 Fstl4\", \"IT-L6 Man1c1\", \"IT-L6 Oxr1\", \"L6b Adcy8\", \"L6b Kcnk2\", \"L6b Nrp2\", \"L6b Pkhd1\", \"LSX-Inh Cacna1i\", \"LSX-Inh Dock10\", \"LSX-Inh Enox1\", \"LSX-Inh Foxp2\", \"LSX-Inh Lats2\", \"LSX-Inh Nxph1\", \"LSX-Inh Zeb2\", \"MGC mgc-all\", \"MGE-Pvalb Cacna1i\", \"MGE-Pvalb Cnih3\", \"MGE-Pvalb Entpd3\", \"MGE-Pvalb Gfra2\", \"MGE-Pvalb Ptprk\", \"MGE-Pvalb Sema5a\", \"MGE-Pvalb Thsd7a\", \"MGE-Sst Bmper\", \"MGE-Sst Chodl\", \"MGE-Sst Dock4\", \"MGE-Sst Etv1\", \"MGE-Sst Frmd6\", \"MGE-Sst Kcnip4\", \"MGE-Sst Ptpre\", \"MGE-Sst Rerg\", \"MGE-Sst Rxra\", \"MGE-Sst Ubtd1\", \"MGE-Sst Unc5b\", \"MSN-D1 Hrh1\", \"MSN-D1 Khdrbs3\", \"MSN-D1 Ntn1\", \"MSN-D1 Plxnc1\", \"MSN-D2 Casz1\", \"MSN-D2 Col14a1\", \"MSN-D2 Nrp2\", \"MSN-D2 Slc24a2\", \"NP-L6 Boc\", \"NP-L6 Cntnap4\", \"NP-L6 Cntnap5a\", \"NP-L6 Cyp7b1\", \"NP-L6 Kcnab1\", \"NP-L6 Olfml2b\", \"ODC odc-large\", \"ODC odc-small\", \"OLF Gabbr2\", \"OLF Kcnd3\", \"OLF Mapk10\", \"OLF Pag1\", \"OLF Trpc4\", \"OLF Xkr6\", \"OLF-Exc Bmpr1b\", \"OLF-Exc Cdh9\", \"OLF-Exc Cux2\", \"OLF-Exc Lrrtm3\", \"OLF-Exc Pld5\", \"OLF-Exc Rmst\", \"OLF-Exc Sgcd\", \"OLF-Exc Unc13c\", \"OPC opc-large\", \"OPC opc-small\", \"PAL-Inh Chat\", \"PAL-Inh Deptor\", \"PAL-Inh Igdcc3\", \"PAL-Inh Meis1\", \"PAL-Inh Meis2\", \"PAL-Inh Onecut2\", \"PAL-Inh Ptprd\", \"PAL-Inh Rarb\", \"PAL-Inh Tcf7l2\", \"PAL-Inh Tmem178\", \"PC pc-all\", \"PT-L5 Abca12\", \"PT-L5 Astn2\", \"PT-L5 Kcnh1\", \"PT-L5 Nectin1\", \"PT-L5 Plcb4\", \"PT-L5 Ptprt\", \"PT-L5 Tenm2\", \"PT-L5 Tmtc2\", \"PT-L5 Unc5b\", \"Unc5c Unc5c\", \"VLMC Col4a1\", \"VLMC Mapk4\", \"VLMC-Pia vlmc-pia-all\", \"ANP\", \"ASC\", \"CA1\", \"CA3\", \"CA3-St18\", \"CGE-Lamp5\", \"CGE-Vip\", \"CLA\", \"CT-L6\", \"Chd7\", \"D1L-Fstl4\", \"D1L-PAL\", \"DG\", \"DG-po\", \"EC\", \"EP\", \"Foxp2\", \"Gfra1\", \"IG-CA2\", \"IT-L23\", \"IT-L4\", \"IT-L5\", \"IT-L6\", \"L6b\", \"LSX-Inh\", \"MGC\", \"MGE-Pvalb\", \"MGE-Sst\", \"MSN-D1\", \"MSN-D2\", \"NP-L6\", \"ODC\", \"OLF\", \"OLF-Exc\", \"OPC\", \"PAL-Inh\", \"PC\", \"PT-L5\", \"Unc5c\", \"VLMC\", \"VLMC-Pia\", \"Exc\", \"Inh\", \"NonN\"], \"marker\": {\"colors\": [\"#8235E4\", \"#A452FF\", \"#F4BD64\", \"#DE9F00\", \"#867354\", \"#020095\", \"#C79BFF\", \"#001B89\", \"#2B0E6D\", \"#583AE4\", \"#0049DD\", \"#0143CA\", \"#B6A3FF\", \"#7668FF\", \"#8F7DFF\", \"#FF9BB3\", \"#FF4D83\", \"#8E003B\", \"#F9B4BA\", \"#E90060\", \"#FF57AD\", \"#FD009D\", \"#E00173\", \"#78003F\", \"#8F0058\", \"#4E0430\", \"#FF87AC\", \"#C00072\", \"#027BB8\", \"#84BBFF\", \"#008FE3\", \"#00C594\", \"#00513A\", \"#2DE194\", \"#007A53\", \"#FF8288\", \"#BC8B8B\", \"#EE0051\", \"#E4BFA2\", \"#FFAC4F\", \"#BE9F83\", \"#C06A00\", \"#724200\", \"#C17600\", \"#B37500\", \"#D896FF\", \"#013196\", \"#8389FF\", \"#C1C1F7\", \"#D7C93C\", \"#515000\", \"#02C0FE\", \"#0099CC\", \"#006B99\", \"#FF9D7A\", \"#FF6B36\", \"#FF8956\", \"#5E1800\", \"#00489A\", \"#002D74\", \"#0053CA\", \"#9DB0FF\", \"#C8CA86\", \"#94B400\", \"#475400\", \"#212900\", \"#A8D617\", \"#B3D164\", \"#203900\", \"#A6D648\", \"#435F00\", \"#167600\", \"#42A100\", \"#3BB800\", \"#6DC600\", \"#019AB4\", \"#28D8FB\", \"#55D4FF\", \"#007C8D\", \"#FF425A\", \"#451714\", \"#E00037\", \"#5B0010\", \"#770010\", \"#FF7371\", \"#EB0031\", \"#DEC481\", \"#FF7BF5\", \"#CE1BDA\", \"#EE75FF\", \"#750076\", \"#FF43F0\", \"#F264FF\", \"#5B3D56\", \"#FAAFE5\", \"#E3009C\", \"#3C1A33\", \"#4F0041\", \"#FF8FDF\", \"#DB00C2\", \"#FF82C0\", \"#C900AA\", \"#9E007A\", \"#710060\", \"#FF6EBE\", \"#4B2000\", \"#FF812C\", \"#AD3A00\", \"#C65400\", \"#FCB78F\", \"#6B2E00\", \"#E67900\", \"#A15200\", \"#00C9C4\", \"#8CD5B9\", \"#009885\", \"#006056\", \"#01D3B1\", \"#5DD7E4\", \"#4F3900\", \"#D3A474\", \"#7A00BD\", \"#A000C7\", \"#E0B4FF\", \"#3E00AE\", \"#670092\", \"#331751\", \"#00365C\", \"#0183E9\", \"#0163AF\", \"#A6B2D7\", \"#014779\", \"#152645\", \"#5CA4FF\", \"#0177E8\", \"#836300\", \"#EEC000\", \"#FC0028\", \"#BE001E\", \"#93000C\", \"#811D00\", \"#E93400\", \"#FF8C6A\", \"#B20002\", \"#FFA191\", \"#FF614C\", \"#BE2700\", \"#917E00\", \"#00B734\", \"#00B958\", \"#007026\", \"#003216\", \"#00D765\", \"#94D781\", \"#6FDE54\", \"#005025\", \"#00DD4B\", \"#A5003A\", \"#BCBD00\", \"#3E3F00\", \"#9FA600\", \"#D646B8\", \"#DE9F00\", \"#5E2C96\", \"#0049DD\", \"#AE97CE\", \"#67292F\", \"#E13F82\", \"#47688F\", \"#3F884E\", \"#E0451E\", \"#D56B3C\", \"#E48C2E\", \"#C378CA\", \"#613ACE\", \"#78772B\", \"#68AAD7\", \"#A3355F\", \"#0177E8\", \"#413873\", \"#6BC22E\", \"#A8D617\", \"#4A8827\", \"#314B1F\", \"#28D8FB\", \"#D89082\", \"#AAB639\", \"#E179A2\", \"#764A71\", \"#D76765\", \"#98634F\", \"#63BC9E\", \"#CEA675\", \"#812970\", \"#5F83D4\", \"#A87331\", \"#DE3649\", \"#9BB070\", \"#4AC750\", \"#972B25\", \"#5E461E\", \"#9FA600\", \"#5EC5A9\", \"#E93400\", \"#E06931\"]}, \"parents\": [\"ANP\", \"ANP\", \"ASC\", \"ASC\", \"ASC\", \"CA1\", \"CA1\", \"CA1\", \"CA1\", \"CA1\", \"CA3\", \"CA3\", \"CA3-St18\", \"CA3-St18\", \"CA3-St18\", \"CGE-Lamp5\", \"CGE-Lamp5\", \"CGE-Lamp5\", \"CGE-Lamp5\", \"CGE-Lamp5\", \"CGE-Vip\", \"CGE-Vip\", \"CGE-Vip\", \"CGE-Vip\", \"CGE-Vip\", \"CGE-Vip\", \"CGE-Vip\", \"CGE-Vip\", \"CLA\", \"CLA\", \"CLA\", \"CT-L6\", \"CT-L6\", \"CT-L6\", \"CT-L6\", \"Chd7\", \"Chd7\", \"Chd7\", \"D1L-Fstl4\", \"D1L-Fstl4\", \"D1L-Fstl4\", \"D1L-Fstl4\", \"D1L-Fstl4\", \"D1L-PAL\", \"D1L-PAL\", \"DG\", \"DG-po\", \"DG-po\", \"DG-po\", \"EC\", \"EC\", \"EP\", \"EP\", \"EP\", \"Foxp2\", \"Foxp2\", \"Foxp2\", \"Foxp2\", \"Gfra1\", \"IG-CA2\", \"IG-CA2\", \"IG-CA2\", \"IT-L23\", \"IT-L23\", \"IT-L23\", \"IT-L23\", \"IT-L4\", \"IT-L4\", \"IT-L5\", \"IT-L5\", \"IT-L5\", \"IT-L6\", \"IT-L6\", \"IT-L6\", \"IT-L6\", \"L6b\", \"L6b\", \"L6b\", \"L6b\", \"LSX-Inh\", \"LSX-Inh\", \"LSX-Inh\", \"LSX-Inh\", \"LSX-Inh\", \"LSX-Inh\", \"LSX-Inh\", \"MGC\", \"MGE-Pvalb\", \"MGE-Pvalb\", \"MGE-Pvalb\", \"MGE-Pvalb\", \"MGE-Pvalb\", \"MGE-Pvalb\", \"MGE-Pvalb\", \"MGE-Sst\", \"MGE-Sst\", \"MGE-Sst\", \"MGE-Sst\", \"MGE-Sst\", \"MGE-Sst\", \"MGE-Sst\", \"MGE-Sst\", \"MGE-Sst\", \"MGE-Sst\", \"MGE-Sst\", \"MSN-D1\", \"MSN-D1\", \"MSN-D1\", \"MSN-D1\", \"MSN-D2\", \"MSN-D2\", \"MSN-D2\", \"MSN-D2\", \"NP-L6\", \"NP-L6\", \"NP-L6\", \"NP-L6\", \"NP-L6\", \"NP-L6\", \"ODC\", \"ODC\", \"OLF\", \"OLF\", \"OLF\", \"OLF\", \"OLF\", \"OLF\", \"OLF-Exc\", \"OLF-Exc\", \"OLF-Exc\", \"OLF-Exc\", \"OLF-Exc\", \"OLF-Exc\", \"OLF-Exc\", \"OLF-Exc\", \"OPC\", \"OPC\", \"PAL-Inh\", \"PAL-Inh\", \"PAL-Inh\", \"PAL-Inh\", \"PAL-Inh\", \"PAL-Inh\", \"PAL-Inh\", \"PAL-Inh\", \"PAL-Inh\", \"PAL-Inh\", \"PC\", \"PT-L5\", \"PT-L5\", \"PT-L5\", \"PT-L5\", \"PT-L5\", \"PT-L5\", \"PT-L5\", \"PT-L5\", \"PT-L5\", \"Unc5c\", \"VLMC\", \"VLMC\", \"VLMC-Pia\", \"NonN\", \"NonN\", \"Exc\", \"Exc\", \"Exc\", \"Inh\", \"Inh\", \"Exc\", \"Exc\", \"Inh\", \"Inh\", \"Inh\", \"Exc\", \"Exc\", \"NonN\", \"Exc\", \"Inh\", \"Exc\", \"Exc\", \"Exc\", \"Exc\", \"Exc\", \"Exc\", \"Exc\", \"Inh\", \"NonN\", \"Inh\", \"Inh\", \"Inh\", \"Inh\", \"Exc\", \"NonN\", \"Inh\", \"Exc\", \"NonN\", \"Inh\", \"NonN\", \"Exc\", \"Inh\", \"NonN\", \"NonN\", \"\", \"\", \"\"], \"type\": \"sunburst\", \"values\": [121, 210, 406, 734, 1075, 419, 2765, 133, 54, 568, 2284, 139, 107, 81, 220, 243, 237, 732, 83, 154, 180, 181, 234, 379, 103, 65, 421, 183, 118, 505, 322, 664, 4361, 869, 2822, 79, 153, 154, 197, 386, 416, 660, 303, 246, 249, 6179, 55, 51, 39, 83, 12, 144, 224, 298, 704, 312, 431, 517, 110, 369, 224, 152, 6551, 1528, 1503, 2337, 2742, 1605, 2535, 2216, 1889, 865, 1197, 2676, 209, 398, 177, 457, 37, 333, 440, 296, 272, 95, 432, 275, 853, 236, 423, 355, 472, 84, 415, 648, 282, 94, 374, 80, 695, 230, 152, 281, 224, 387, 128, 1349, 541, 322, 926, 242, 598, 431, 2069, 294, 146, 367, 193, 446, 373, 2216, 866, 86, 99, 60, 60, 1017, 46, 3017, 730, 394, 1681, 137, 359, 2395, 957, 688, 89, 197, 84, 407, 246, 1969, 187, 365, 242, 185, 425, 170, 144, 125, 406, 271, 266, 385, 631, 204, 205, 219, 175, 244, 225, 331, 2215, 3939, 2423, 408, 1449, 1746, 945, 8716, 386, 1962, 495, 6179, 145, 95, 666, 1964, 110, 745, 11919, 4347, 6640, 4947, 1069, 2143, 853, 2633, 2927, 3138, 3340, 1819, 3082, 1368, 9670, 777, 4307, 170, 2637, 219, 419, 225, 67324, 28077, 8167]}],\n",
       "                        {\"margin\": {\"b\": 0, \"l\": 0, \"r\": 0, \"t\": 0}, \"template\": {\"data\": {\"bar\": [{\"error_x\": {\"color\": \"#2a3f5f\"}, \"error_y\": {\"color\": \"#2a3f5f\"}, \"marker\": {\"line\": {\"color\": \"#E5ECF6\", \"width\": 0.5}}, \"type\": \"bar\"}], \"barpolar\": [{\"marker\": {\"line\": {\"color\": \"#E5ECF6\", \"width\": 0.5}}, \"type\": \"barpolar\"}], \"carpet\": [{\"aaxis\": {\"endlinecolor\": \"#2a3f5f\", \"gridcolor\": \"white\", \"linecolor\": \"white\", \"minorgridcolor\": \"white\", \"startlinecolor\": \"#2a3f5f\"}, \"baxis\": {\"endlinecolor\": \"#2a3f5f\", \"gridcolor\": \"white\", \"linecolor\": \"white\", \"minorgridcolor\": \"white\", \"startlinecolor\": \"#2a3f5f\"}, \"type\": \"carpet\"}], \"choropleth\": [{\"colorbar\": {\"outlinewidth\": 0, \"ticks\": \"\"}, \"type\": \"choropleth\"}], \"contour\": [{\"colorbar\": {\"outlinewidth\": 0, \"ticks\": \"\"}, \"colorscale\": [[0.0, \"#0d0887\"], [0.1111111111111111, \"#46039f\"], [0.2222222222222222, \"#7201a8\"], [0.3333333333333333, \"#9c179e\"], [0.4444444444444444, \"#bd3786\"], [0.5555555555555556, \"#d8576b\"], [0.6666666666666666, \"#ed7953\"], [0.7777777777777778, \"#fb9f3a\"], [0.8888888888888888, \"#fdca26\"], [1.0, \"#f0f921\"]], \"type\": \"contour\"}], \"contourcarpet\": [{\"colorbar\": {\"outlinewidth\": 0, \"ticks\": \"\"}, \"type\": \"contourcarpet\"}], \"heatmap\": [{\"colorbar\": {\"outlinewidth\": 0, \"ticks\": \"\"}, \"colorscale\": [[0.0, \"#0d0887\"], [0.1111111111111111, \"#46039f\"], [0.2222222222222222, \"#7201a8\"], [0.3333333333333333, \"#9c179e\"], [0.4444444444444444, \"#bd3786\"], [0.5555555555555556, \"#d8576b\"], [0.6666666666666666, \"#ed7953\"], [0.7777777777777778, \"#fb9f3a\"], [0.8888888888888888, \"#fdca26\"], [1.0, \"#f0f921\"]], \"type\": \"heatmap\"}], \"heatmapgl\": [{\"colorbar\": {\"outlinewidth\": 0, \"ticks\": \"\"}, \"colorscale\": [[0.0, \"#0d0887\"], [0.1111111111111111, \"#46039f\"], [0.2222222222222222, \"#7201a8\"], [0.3333333333333333, \"#9c179e\"], [0.4444444444444444, \"#bd3786\"], [0.5555555555555556, \"#d8576b\"], [0.6666666666666666, \"#ed7953\"], [0.7777777777777778, \"#fb9f3a\"], [0.8888888888888888, \"#fdca26\"], [1.0, \"#f0f921\"]], \"type\": \"heatmapgl\"}], \"histogram\": [{\"marker\": {\"colorbar\": {\"outlinewidth\": 0, \"ticks\": \"\"}}, \"type\": \"histogram\"}], \"histogram2d\": [{\"colorbar\": {\"outlinewidth\": 0, \"ticks\": \"\"}, \"colorscale\": [[0.0, \"#0d0887\"], [0.1111111111111111, \"#46039f\"], [0.2222222222222222, \"#7201a8\"], [0.3333333333333333, \"#9c179e\"], [0.4444444444444444, \"#bd3786\"], [0.5555555555555556, \"#d8576b\"], [0.6666666666666666, \"#ed7953\"], [0.7777777777777778, \"#fb9f3a\"], [0.8888888888888888, \"#fdca26\"], [1.0, \"#f0f921\"]], \"type\": \"histogram2d\"}], \"histogram2dcontour\": [{\"colorbar\": {\"outlinewidth\": 0, \"ticks\": \"\"}, \"colorscale\": [[0.0, \"#0d0887\"], [0.1111111111111111, \"#46039f\"], [0.2222222222222222, \"#7201a8\"], [0.3333333333333333, \"#9c179e\"], [0.4444444444444444, \"#bd3786\"], [0.5555555555555556, \"#d8576b\"], [0.6666666666666666, \"#ed7953\"], [0.7777777777777778, \"#fb9f3a\"], [0.8888888888888888, \"#fdca26\"], [1.0, \"#f0f921\"]], \"type\": \"histogram2dcontour\"}], \"mesh3d\": [{\"colorbar\": {\"outlinewidth\": 0, \"ticks\": \"\"}, \"type\": \"mesh3d\"}], \"parcoords\": [{\"line\": {\"colorbar\": {\"outlinewidth\": 0, \"ticks\": \"\"}}, \"type\": \"parcoords\"}], \"pie\": [{\"automargin\": true, \"type\": \"pie\"}], \"scatter\": [{\"marker\": {\"colorbar\": {\"outlinewidth\": 0, \"ticks\": \"\"}}, \"type\": \"scatter\"}], \"scatter3d\": [{\"line\": {\"colorbar\": {\"outlinewidth\": 0, \"ticks\": \"\"}}, \"marker\": {\"colorbar\": {\"outlinewidth\": 0, \"ticks\": \"\"}}, \"type\": \"scatter3d\"}], \"scattercarpet\": [{\"marker\": {\"colorbar\": {\"outlinewidth\": 0, \"ticks\": \"\"}}, \"type\": \"scattercarpet\"}], \"scattergeo\": [{\"marker\": {\"colorbar\": {\"outlinewidth\": 0, \"ticks\": \"\"}}, \"type\": \"scattergeo\"}], \"scattergl\": [{\"marker\": {\"colorbar\": {\"outlinewidth\": 0, \"ticks\": \"\"}}, \"type\": \"scattergl\"}], \"scattermapbox\": [{\"marker\": {\"colorbar\": {\"outlinewidth\": 0, \"ticks\": \"\"}}, \"type\": \"scattermapbox\"}], \"scatterpolar\": [{\"marker\": {\"colorbar\": {\"outlinewidth\": 0, \"ticks\": \"\"}}, \"type\": \"scatterpolar\"}], \"scatterpolargl\": [{\"marker\": {\"colorbar\": {\"outlinewidth\": 0, \"ticks\": \"\"}}, \"type\": \"scatterpolargl\"}], \"scatterternary\": [{\"marker\": {\"colorbar\": {\"outlinewidth\": 0, \"ticks\": \"\"}}, \"type\": \"scatterternary\"}], \"surface\": [{\"colorbar\": {\"outlinewidth\": 0, \"ticks\": \"\"}, \"colorscale\": [[0.0, \"#0d0887\"], [0.1111111111111111, \"#46039f\"], [0.2222222222222222, \"#7201a8\"], [0.3333333333333333, \"#9c179e\"], [0.4444444444444444, \"#bd3786\"], [0.5555555555555556, \"#d8576b\"], [0.6666666666666666, \"#ed7953\"], [0.7777777777777778, \"#fb9f3a\"], [0.8888888888888888, \"#fdca26\"], [1.0, \"#f0f921\"]], \"type\": \"surface\"}], \"table\": [{\"cells\": {\"fill\": {\"color\": \"#EBF0F8\"}, \"line\": {\"color\": \"white\"}}, \"header\": {\"fill\": {\"color\": \"#C8D4E3\"}, \"line\": {\"color\": \"white\"}}, \"type\": \"table\"}]}, \"layout\": {\"annotationdefaults\": {\"arrowcolor\": \"#2a3f5f\", \"arrowhead\": 0, \"arrowwidth\": 1}, \"coloraxis\": {\"colorbar\": {\"outlinewidth\": 0, \"ticks\": \"\"}}, \"colorscale\": {\"diverging\": [[0, \"#8e0152\"], [0.1, \"#c51b7d\"], [0.2, \"#de77ae\"], [0.3, \"#f1b6da\"], [0.4, \"#fde0ef\"], [0.5, \"#f7f7f7\"], [0.6, \"#e6f5d0\"], [0.7, \"#b8e186\"], [0.8, \"#7fbc41\"], [0.9, \"#4d9221\"], [1, \"#276419\"]], \"sequential\": [[0.0, \"#0d0887\"], [0.1111111111111111, \"#46039f\"], [0.2222222222222222, \"#7201a8\"], [0.3333333333333333, \"#9c179e\"], [0.4444444444444444, \"#bd3786\"], [0.5555555555555556, \"#d8576b\"], [0.6666666666666666, \"#ed7953\"], [0.7777777777777778, \"#fb9f3a\"], [0.8888888888888888, \"#fdca26\"], [1.0, \"#f0f921\"]], \"sequentialminus\": [[0.0, \"#0d0887\"], [0.1111111111111111, \"#46039f\"], [0.2222222222222222, \"#7201a8\"], [0.3333333333333333, \"#9c179e\"], [0.4444444444444444, \"#bd3786\"], [0.5555555555555556, \"#d8576b\"], [0.6666666666666666, \"#ed7953\"], [0.7777777777777778, \"#fb9f3a\"], [0.8888888888888888, \"#fdca26\"], [1.0, \"#f0f921\"]]}, \"colorway\": [\"#636efa\", \"#EF553B\", \"#00cc96\", \"#ab63fa\", \"#FFA15A\", \"#19d3f3\", \"#FF6692\", \"#B6E880\", \"#FF97FF\", \"#FECB52\"], \"font\": {\"color\": \"#2a3f5f\"}, \"geo\": {\"bgcolor\": \"white\", \"lakecolor\": \"white\", \"landcolor\": \"#E5ECF6\", \"showlakes\": true, \"showland\": true, \"subunitcolor\": \"white\"}, \"hoverlabel\": {\"align\": \"left\"}, \"hovermode\": \"closest\", \"mapbox\": {\"style\": \"light\"}, \"paper_bgcolor\": \"white\", \"plot_bgcolor\": \"#E5ECF6\", \"polar\": {\"angularaxis\": {\"gridcolor\": \"white\", \"linecolor\": \"white\", \"ticks\": \"\"}, \"bgcolor\": \"#E5ECF6\", \"radialaxis\": {\"gridcolor\": \"white\", \"linecolor\": \"white\", \"ticks\": \"\"}}, \"scene\": {\"xaxis\": {\"backgroundcolor\": \"#E5ECF6\", \"gridcolor\": \"white\", \"gridwidth\": 2, \"linecolor\": \"white\", \"showbackground\": true, \"ticks\": \"\", \"zerolinecolor\": \"white\"}, \"yaxis\": {\"backgroundcolor\": \"#E5ECF6\", \"gridcolor\": \"white\", \"gridwidth\": 2, \"linecolor\": \"white\", \"showbackground\": true, \"ticks\": \"\", \"zerolinecolor\": \"white\"}, \"zaxis\": {\"backgroundcolor\": \"#E5ECF6\", \"gridcolor\": \"white\", \"gridwidth\": 2, \"linecolor\": \"white\", \"showbackground\": true, \"ticks\": \"\", \"zerolinecolor\": \"white\"}}, \"shapedefaults\": {\"line\": {\"color\": \"#2a3f5f\"}}, \"ternary\": {\"aaxis\": {\"gridcolor\": \"white\", \"linecolor\": \"white\", \"ticks\": \"\"}, \"baxis\": {\"gridcolor\": \"white\", \"linecolor\": \"white\", \"ticks\": \"\"}, \"bgcolor\": \"#E5ECF6\", \"caxis\": {\"gridcolor\": \"white\", \"linecolor\": \"white\", \"ticks\": \"\"}}, \"title\": {\"x\": 0.05}, \"xaxis\": {\"automargin\": true, \"gridcolor\": \"white\", \"linecolor\": \"white\", \"ticks\": \"\", \"title\": {\"standoff\": 15}, \"zerolinecolor\": \"white\", \"zerolinewidth\": 2}, \"yaxis\": {\"automargin\": true, \"gridcolor\": \"white\", \"linecolor\": \"white\", \"ticks\": \"\", \"title\": {\"standoff\": 15}, \"zerolinecolor\": \"white\", \"zerolinewidth\": 2}}}},\n",
       "                        {\"responsive\": true}\n",
       "                    ).then(function(){\n",
       "                            \n",
       "var gd = document.getElementById('f4d9ab08-1664-4429-9bc9-247c7c63bc98');\n",
       "var x = new MutationObserver(function (mutations, observer) {{\n",
       "        var display = window.getComputedStyle(gd).display;\n",
       "        if (!display || display === 'none') {{\n",
       "            console.log([gd, 'removed!']);\n",
       "            Plotly.purge(gd);\n",
       "            observer.disconnect();\n",
       "        }}\n",
       "}});\n",
       "\n",
       "// Listen for the removal of the full notebook cells\n",
       "var notebookContainer = gd.closest('#notebook-container');\n",
       "if (notebookContainer) {{\n",
       "    x.observe(notebookContainer, {childList: true});\n",
       "}}\n",
       "\n",
       "// Listen for the clearing of the current output cell\n",
       "var outputEl = gd.closest('.output');\n",
       "if (outputEl) {{\n",
       "    x.observe(outputEl, {childList: true});\n",
       "}}\n",
       "\n",
       "                        })\n",
       "                };\n",
       "                });\n",
       "            </script>\n",
       "        </div>"
      ]
     },
     "metadata": {},
     "output_type": "display_data"
    }
   ],
   "source": [
    "levels = ['CellClass', 'MajorType', 'SubType']\n",
    "\n",
    "\n",
    "\n",
    "if 'SubType' in data.columns:\n",
    "    data = data[data['SubType'].apply(lambda i: 'Outlier' not in i)]\n",
    "\n",
    "count_df = data.groupby(levels).apply(lambda i: i.shape[0]).reset_index()\n",
    "count_df.columns= levels + ['Cell Number']\n",
    "\n",
    "total_palette = {}\n",
    "for level in levels:\n",
    "    total_palette.update(palette[level])\n",
    "\n",
    "labels = []\n",
    "parents = []\n",
    "values = []\n",
    "colors = []\n",
    "for level, parent_level in zip(levels[::-1], levels[1::-1] + [None]):\n",
    "    this_level_sum = count_df.groupby(level)['Cell Number'].sum().to_dict()\n",
    "    this_level_sum = {k: v for k, v in this_level_sum.items() if v!=0}\n",
    "    if parent_level is not None:\n",
    "        this_parent_dict = count_df.set_index(level)[parent_level].to_dict()\n",
    "    else:\n",
    "        this_parent_dict = {label: '' for label in count_df[level].unique()}\n",
    "    for label in this_level_sum.keys():\n",
    "        labels.append(label)\n",
    "        parents.append(this_parent_dict[label])\n",
    "        values.append(this_level_sum[label])\n",
    "        try:\n",
    "            colors.append(total_palette[label])\n",
    "        except KeyError:\n",
    "            colors.append('#D3D3D3')\n",
    "            \n",
    "import plotly.graph_objects as go\n",
    "\n",
    "fig =go.Figure(go.Sunburst(\n",
    "    labels=labels,\n",
    "    parents=parents,\n",
    "    values=values,\n",
    "    marker={'colors': colors},\n",
    "    branchvalues=\"total\",\n",
    "))\n",
    "# Update layout for tight margin\n",
    "# See https://plotly.com/python/creating-and-updating-figures/\n",
    "fig.update_layout(margin = dict(t=0, l=0, r=0, b=0))\n",
    "\n",
    "fig.show()"
   ]
  },
  {
   "cell_type": "code",
   "execution_count": null,
   "metadata": {
    "ExecuteTime": {
     "end_time": "2020-04-19T02:53:56.169280Z",
     "start_time": "2020-04-19T02:53:56.160851Z"
    }
   },
   "outputs": [],
   "source": []
  },
  {
   "cell_type": "code",
   "execution_count": 18,
   "metadata": {
    "scrolled": false
   },
   "outputs": [
    {
     "data": {
      "text/plain": [
       "(Sunburst({\n",
       "     'branchvalues': 'total',\n",
       "     'labels': [ANP anp-dg, ANP anp-olf-cnu, ASC cortex-olf, ..., Exc, Inh, NonN],\n",
       "     'marker': {'colors': [#8235E4, #A452FF, #F4BD64, ..., #5EC5A9, #E93400,\n",
       "                           #E06931]},\n",
       "     'parents': [ANP, ANP, ASC, ..., , , ],\n",
       "     'values': [121, 210, 406, ..., 67324, 28077, 8167]\n",
       " }),)"
      ]
     },
     "execution_count": 18,
     "metadata": {},
     "output_type": "execute_result"
    }
   ],
   "source": []
  },
  {
   "cell_type": "code",
   "execution_count": null,
   "metadata": {},
   "outputs": [],
   "source": []
  },
  {
   "cell_type": "code",
   "execution_count": null,
   "metadata": {},
   "outputs": [],
   "source": []
  },
  {
   "cell_type": "code",
   "execution_count": null,
   "metadata": {},
   "outputs": [],
   "source": []
  },
  {
   "cell_type": "code",
   "execution_count": null,
   "metadata": {},
   "outputs": [],
   "source": []
  },
  {
   "cell_type": "code",
   "execution_count": null,
   "metadata": {},
   "outputs": [],
   "source": []
  }
 ],
 "metadata": {
  "kernelspec": {
   "display_name": "Python 3",
   "language": "python",
   "name": "python3"
  },
  "language_info": {
   "codemirror_mode": {
    "name": "ipython",
    "version": 3
   },
   "file_extension": ".py",
   "mimetype": "text/x-python",
   "name": "python",
   "nbconvert_exporter": "python",
   "pygments_lexer": "ipython3",
   "version": "3.7.6"
  },
  "toc": {
   "base_numbering": 1,
   "nav_menu": {},
   "number_sections": true,
   "sideBar": true,
   "skip_h1_title": true,
   "title_cell": "Table of Contents",
   "title_sidebar": "Contents",
   "toc_cell": false,
   "toc_position": {},
   "toc_section_display": true,
   "toc_window_display": true
  }
 },
 "nbformat": 4,
 "nbformat_minor": 4
}
