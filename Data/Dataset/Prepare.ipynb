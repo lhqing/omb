{
 "cells": [
  {
   "cell_type": "code",
   "execution_count": 1,
   "metadata": {},
   "outputs": [
    {
     "name": "stdout",
     "output_type": "stream",
     "text": [
      "/Users/hanqingliu/miniconda3/envs/omb/bin/python\r\n"
     ]
    }
   ],
   "source": [
    "!which python"
   ]
  },
  {
   "cell_type": "code",
   "execution_count": 2,
   "metadata": {
    "ExecuteTime": {
     "end_time": "2020-03-13T05:59:43.185145Z",
     "start_time": "2020-03-13T05:59:43.182752Z"
    }
   },
   "outputs": [],
   "source": [
    "import pandas as pd\n",
    "import xarray as xr\n",
    "import numpy as np\n",
    "import pathlib\n",
    "import warnings\n",
    "import orjson\n",
    "import msgpack"
   ]
  },
  {
   "cell_type": "code",
   "execution_count": null,
   "metadata": {},
   "outputs": [],
   "source": []
  },
  {
   "cell_type": "code",
   "execution_count": 3,
   "metadata": {
    "ExecuteTime": {
     "end_time": "2020-03-13T06:03:01.150780Z",
     "start_time": "2020-03-13T06:03:01.148050Z"
    }
   },
   "outputs": [],
   "source": [
    "input_dir = pathlib.Path('../raw/')\n",
    "output_dir = pathlib.Path('')\n",
    "\n",
    "categorical_path = 'Category.HDF'\n",
    "continous_path = 'Continuous.HDF'\n",
    "coords_path = 'Coords'\n",
    "gene_rate_path = 'Gene.small.mcds'\n",
    "palette_path = 'Palette.msg'\n",
    "\n",
    "COORDS_PATH = 'Coords.h5'\n",
    "VARIABLE_PATH = 'Variables.h5'\n",
    "PALETTE_PATH = 'Palette.msg'\n",
    "\n",
    "categorical_path = input_dir / categorical_path\n",
    "continuous_path = input_dir / continous_path\n",
    "coords_dir = input_dir / coords_path\n",
    "gene_rate_path = input_dir / gene_rate_path\n",
    "palette_path = input_dir / palette_path"
   ]
  },
  {
   "cell_type": "code",
   "execution_count": null,
   "metadata": {
    "ExecuteTime": {
     "end_time": "2020-03-13T06:03:04.436109Z",
     "start_time": "2020-03-13T06:03:04.433426Z"
    }
   },
   "outputs": [],
   "source": []
  },
  {
   "cell_type": "code",
   "execution_count": 4,
   "metadata": {
    "scrolled": true
   },
   "outputs": [],
   "source": [
    "\"\"\"\n",
    "Ingest user input data to standard internal Dataset\n",
    "\n",
    "Several main things\n",
    "# Coords file\n",
    "- The name of the file before first \".\" char will be the name of the coords set.\n",
    "- No header\n",
    "- First column must be cell id\n",
    "- Second (x), third (y), and forth (z, optional) column are coordinates\n",
    "- Each file only contain one set of coordinates, if have multiple views, use multiple coords files.\n",
    "- Coords transfer into np.float16\n",
    "\n",
    "# Categorical / Continuous variables\n",
    "- Header according to variable name\n",
    "- First column must be cell id, all cell ids must exist in the coords\n",
    "- Columns may have nan\n",
    "\n",
    "# Palette\n",
    "- Int id map to real str id\n",
    "- Associated with continuous variable, categorical variable, and region values\n",
    "\n",
    "# Region\n",
    "    ## Gene\n",
    "        - Int id map to real str id\n",
    "        - Genome coords\n",
    "\n",
    "\"\"\"\n",
    "import pandas as pd\n",
    "import numpy as np\n",
    "import warnings\n",
    "import msgpack\n",
    "\n",
    "\n",
    "def read_msgpack(path):\n",
    "    with open(path, 'rb') as f:\n",
    "        data = msgpack.unpackb(f.read())\n",
    "    return data\n",
    "\n",
    "\n",
    "def write_msgpack(path, data):\n",
    "    with open(path, 'wb') as f:\n",
    "        f.write(msgpack.packb(data))\n",
    "\n",
    "\n",
    "\"\"\"\n",
    "File names in ingested dataset dir\n",
    "\"\"\"\n",
    "COORDS_PATH = 'Coords.h5'\n",
    "CELL_ID_PATH = 'CellIDMap.msg'\n",
    "VARIABLE_PATH = 'Variables.h5'\n",
    "PALETTE_PATH = 'Palette.msg'\n",
    "\n",
    "\"\"\"\n",
    "Default data types\n",
    "\"\"\"\n",
    "COORDS_DTYPE = np.float16\n",
    "CONTINUOUS_VAR_DTYPE = np.float32\n",
    "\n",
    "\n",
    "def ingest_cell_coords(coords_dir, output_dir):\n",
    "    \"\"\"\n",
    "    Load all the coords, use union of cell ids and map all cell id into int internally, return the cell map dict.\n",
    "    Parameters\n",
    "    ----------\n",
    "    coords_dir\n",
    "        User input dir path\n",
    "    output_dir\n",
    "        Standard output dir path\n",
    "    Returns\n",
    "    -------\n",
    "    cell_to_int: dict\n",
    "        cell to int map, use for all other data's cell id validation and conversion\n",
    "    \"\"\"\n",
    "    # load all the coords\n",
    "    print(f'Loading cell coords')\n",
    "    coords_dict = {}\n",
    "    for path in list(coords_dir.glob('*csv.gz')):\n",
    "        coord_name = path.name.split('.')[0]\n",
    "        coords_df = pd.read_csv(path, header=None, index_col=0).astype(COORDS_DTYPE)\n",
    "        coords_df.index.name = 'cell'\n",
    "        if coords_df.shape[1] == 2:\n",
    "            coords_df.columns = ['x', 'y']\n",
    "        elif coords_df.shape[1] == 3:\n",
    "            coords_df.columns = ['x', 'y', 'z']\n",
    "        else:\n",
    "            raise NotImplementedError(f'Coords table right now only support 2D or 3D, '\n",
    "                                      f'got a table with {coords_df.shape[1]} dims.')\n",
    "        coords_dict[coord_name] = coords_df\n",
    "\n",
    "    # generate cell_id map\n",
    "    total_cell_ids = set()\n",
    "    for k, v in coords_dict.items():\n",
    "        total_cell_ids |= set(v.index)\n",
    "    cell_to_int = {c: i for i, c in enumerate(total_cell_ids)}\n",
    "    del total_cell_ids\n",
    "    print(f'Got a total of {len(cell_to_int)} unique cell ids from all coords files')\n",
    "\n",
    "    # change all the coords table index into int\n",
    "    print(f'Standardizing internal cell ids')\n",
    "    for k, v in coords_dict.items():\n",
    "        v.index = v.index.map(cell_to_int)\n",
    "\n",
    "    print(f'Saving coords and cell ids')\n",
    "    with pd.HDFStore(output_dir / COORDS_PATH, 'w') as hdf:\n",
    "        with warnings.catch_warnings():\n",
    "            warnings.simplefilter(\"ignore\")\n",
    "            for k, v in coords_dict.items():\n",
    "                hdf[k] = v\n",
    "    write_msgpack(output_dir / CELL_ID_PATH, cell_to_int)\n",
    "    \n",
    "    return cell_to_int\n",
    "\n",
    "\n",
    "def ingest_variables(cell_to_int, output_dir, categorical_path=None, continuous_path=None):\n",
    "    variables_to_cat = []\n",
    "\n",
    "    if categorical_path is not None:\n",
    "        categorical_df = pd.read_hdf(categorical_path, key='data').astype('category')\n",
    "        # validate cell ids before conversion\n",
    "        cell_not_in_coords = categorical_df.index[~categorical_df.index.isin(cell_to_int)]\n",
    "        error_str = ', '.join(cell_not_in_coords[:10])\n",
    "        try:\n",
    "            assert cell_not_in_coords.size == 0\n",
    "        except AssertionError:\n",
    "            raise KeyError(f'{cell_not_in_coords.size} cell ids found in categorical variable table '\n",
    "                           f'do not found in any coords table, e.g. {error_str}')\n",
    "        else:\n",
    "            categorical_df.index = categorical_df.index.map(cell_to_int)\n",
    "            cells, num_vars = categorical_df.shape\n",
    "            print(f'Got {num_vars} categorical variables for {cells} cells.')\n",
    "            variables_to_cat.append(categorical_df)\n",
    "\n",
    "    if continuous_path is not None:\n",
    "        continuous_df = pd.read_hdf(continuous_path, key='data').astype(CONTINUOUS_VAR_DTYPE)\n",
    "        # validate cell ids before conversion\n",
    "        cell_not_in_coords = continuous_df.index[~continuous_df.index.isin(cell_to_int)]\n",
    "        error_str = ', '.join(cell_not_in_coords[:10])\n",
    "        try:\n",
    "            assert cell_not_in_coords.size == 0\n",
    "        except AssertionError:\n",
    "            raise KeyError(f'{cell_not_in_coords.size} cell ids found in continuous variable table '\n",
    "                           f'do not found in any coords table, e.g. {error_str}')\n",
    "        else:\n",
    "            continuous_df.index = continuous_df.index.map(cell_to_int)\n",
    "            cells, num_vars = continuous_df.shape\n",
    "            print(f'Got {num_vars} continuous variables for {cells} cells.')\n",
    "            variables_to_cat.append(continuous_df)\n",
    "\n",
    "    if len(variables_to_cat) != 0:\n",
    "        total_variables = pd.concat(variables_to_cat, axis=1, sort=True)\n",
    "    else:\n",
    "        total_variables = pd.DataFrame([], index=cell_to_int.values())\n",
    "\n",
    "    total_variables.to_hdf(output_dir / VARIABLE_PATH, key='data', format=\"table\")\n",
    "    return total_variables\n",
    "\n",
    "\n",
    "def ingest_palette(total_variables, output_dir, palette_path=None):\n",
    "    if palette_path is not None:\n",
    "        palette = read_msgpack(palette_path)\n",
    "\n",
    "        categorical_variables = total_variables.select_dtypes('category')\n",
    "\n",
    "        for k, _ in palette.items():\n",
    "            try:\n",
    "                cate_data = categorical_variables[k]\n",
    "            except KeyError:\n",
    "                raise KeyError(f'{k} is not provided as a categorical variable, but exist in palette.')\n",
    "\n",
    "            # TODO check if cate_data completely exist in palette?\n",
    "            # TODO check values is hex? Standardize the color to certain format?\n",
    "    else:\n",
    "        # make an empty palette anyway, prevent file not found\n",
    "        palette = {}\n",
    "\n",
    "    write_msgpack(output_dir / PALETTE_PATH, palette)\n",
    "    return\n"
   ]
  },
  {
   "cell_type": "code",
   "execution_count": 5,
   "metadata": {},
   "outputs": [
    {
     "name": "stdout",
     "output_type": "stream",
     "text": [
      "Loading cell coords\n",
      "Got a total of 103982 unique cell ids from all coords files\n",
      "Standardizing internal cell ids\n",
      "Saving coords and cell ids\n",
      "Got 16 categorical variables for 103982 cells.\n",
      "Got 10 continuous variables for 103982 cells.\n"
     ]
    }
   ],
   "source": [
    "cell_to_int = ingest_cell_coords(coords_dir, output_dir)\n",
    "total_variables = ingest_variables(cell_to_int, output_dir, \n",
    "                                   categorical_path=categorical_path, continuous_path=continuous_path)\n"
   ]
  },
  {
   "cell_type": "code",
   "execution_count": 6,
   "metadata": {},
   "outputs": [],
   "source": [
    "ingest_palette(total_variables, output_dir, palette_path=palette_path)"
   ]
  },
  {
   "cell_type": "code",
   "execution_count": 29,
   "metadata": {},
   "outputs": [],
   "source": []
  },
  {
   "cell_type": "code",
   "execution_count": 20,
   "metadata": {},
   "outputs": [],
   "source": []
  },
  {
   "cell_type": "code",
   "execution_count": null,
   "metadata": {},
   "outputs": [],
   "source": []
  },
  {
   "cell_type": "code",
   "execution_count": null,
   "metadata": {},
   "outputs": [],
   "source": []
  },
  {
   "cell_type": "code",
   "execution_count": null,
   "metadata": {},
   "outputs": [],
   "source": []
  },
  {
   "cell_type": "code",
   "execution_count": null,
   "metadata": {},
   "outputs": [],
   "source": []
  },
  {
   "cell_type": "code",
   "execution_count": null,
   "metadata": {},
   "outputs": [],
   "source": []
  },
  {
   "cell_type": "code",
   "execution_count": null,
   "metadata": {},
   "outputs": [],
   "source": []
  },
  {
   "cell_type": "code",
   "execution_count": null,
   "metadata": {},
   "outputs": [],
   "source": []
  }
 ],
 "metadata": {
  "hide_input": false,
  "kernelspec": {
   "display_name": "Python 3",
   "language": "python",
   "name": "python3"
  },
  "language_info": {
   "codemirror_mode": {
    "name": "ipython",
    "version": 3
   },
   "file_extension": ".py",
   "mimetype": "text/x-python",
   "name": "python",
   "nbconvert_exporter": "python",
   "pygments_lexer": "ipython3",
   "version": "3.8.2"
  },
  "toc": {
   "base_numbering": 1,
   "nav_menu": {},
   "number_sections": true,
   "sideBar": true,
   "skip_h1_title": true,
   "title_cell": "Table of Contents",
   "title_sidebar": "Contents",
   "toc_cell": false,
   "toc_position": {},
   "toc_section_display": true,
   "toc_window_display": true
  }
 },
 "nbformat": 4,
 "nbformat_minor": 2
}
